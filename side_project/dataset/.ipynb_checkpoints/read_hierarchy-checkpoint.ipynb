{
 "cells": [
  {
   "cell_type": "code",
   "execution_count": 78,
   "id": "1f674e74",
   "metadata": {},
   "outputs": [],
   "source": [
    "import ast    \n",
    "import json\n",
    "import random\n",
    "import pickle\n",
    "from collections import defaultdict"
   ]
  },
  {
   "cell_type": "code",
   "execution_count": 17,
   "id": "11e4ac92",
   "metadata": {},
   "outputs": [],
   "source": [
    "def get_hierarchy(hierarchy_file='Taxonomy_100'):\n",
    "    nodes = {}\n",
    "    with open(hierarchy_file) as f:\n",
    "        for line in f:\n",
    "            node = ast.literal_eval(line)\n",
    "            title = node['title']\n",
    "            del node['title']\n",
    "            nodes[title] = node\n",
    "    return nodes"
   ]
  },
  {
   "cell_type": "code",
   "execution_count": 21,
   "id": "a254ad60",
   "metadata": {},
   "outputs": [],
   "source": [
    "def get_reviews(yelp_review_file='yelp_academic_dataset_review.json'):\n",
    "    bz_reviews = defaultdict(list)\n",
    "    with open(yelp_review_file) as f:\n",
    "        for line in f:\n",
    "            data = json.loads(line)\n",
    "            bz_reviews[data['business_id']].append(data['text'])\n",
    "    return bz_reviews"
   ]
  },
  {
   "cell_type": "code",
   "execution_count": 22,
   "id": "5b721294",
   "metadata": {},
   "outputs": [
    {
     "name": "stdout",
     "output_type": "stream",
     "text": [
      "CPU times: user 30.4 s, sys: 2.48 s, total: 32.9 s\n",
      "Wall time: 34 s\n"
     ]
    }
   ],
   "source": [
    "%%time\n",
    "bz_reviews = get_reviews()"
   ]
  },
  {
   "cell_type": "code",
   "execution_count": 24,
   "id": "eb061bbd",
   "metadata": {},
   "outputs": [
    {
     "data": {
      "text/plain": [
       "174567"
      ]
     },
     "execution_count": 24,
     "metadata": {},
     "output_type": "execute_result"
    }
   ],
   "source": [
    "len(bz_reviews)"
   ]
  },
  {
   "cell_type": "code",
   "execution_count": 61,
   "id": "58ca8edb",
   "metadata": {},
   "outputs": [],
   "source": [
    "def get_bz_categories(nodes, yelp_bz_file='yelp_academic_dataset_business.json'):\n",
    "    bz_cats = {}\n",
    "    with open(yelp_bz_file) as f:\n",
    "        for line in f:\n",
    "            data = json.loads(line)\n",
    "            # delete businesses with no categories\n",
    "            if data['categories']: \n",
    "                # delete categories that are not in our hierarchy tree\n",
    "                cats = [cat for cat in data['categories'].split(', ') if cat in nodes]\n",
    "                if cats:\n",
    "                    bz_cats[data['business_id']] = cats\n",
    "    return bz_cats"
   ]
  },
  {
   "cell_type": "code",
   "execution_count": 62,
   "id": "125a0fe6",
   "metadata": {},
   "outputs": [],
   "source": [
    "bz_cats = get_bz_categories(nodes)"
   ]
  },
  {
   "cell_type": "code",
   "execution_count": 79,
   "id": "f498d429",
   "metadata": {},
   "outputs": [],
   "source": [
    "def merge_review_cats(bz_cats, bz_reviews, n_max_reviews=3, save_dir='train_data.pickle'):\n",
    "    # based on bz_cats\n",
    "    data = {}\n",
    "    for bid in bz_cats:\n",
    "        if bid in bz_reviews:\n",
    "            reviews = bz_reviews[bid]\n",
    "            if len(reviews) > n_max_reviews:\n",
    "                reviews = random.sample(reviews, n_max_reviews)\n",
    "            data[bid] = {'categories': bz_cats[bid], 'reviews': ' '.join(reviews)}\n",
    "    if save_dir:\n",
    "        with open(save_dir, 'w') as file:\n",
    "            pickle.dump(data, file)\n",
    "    return data"
   ]
  },
  {
   "cell_type": "code",
   "execution_count": 80,
   "id": "514da848",
   "metadata": {},
   "outputs": [],
   "source": [
    "data = merge_review_cats(bz_cats, bz_reviews)"
   ]
  },
  {
   "cell_type": "code",
   "execution_count": null,
   "id": "2a4f94eb",
   "metadata": {},
   "outputs": [],
   "source": []
  }
 ],
 "metadata": {
  "kernelspec": {
   "display_name": "Python 3 (ipykernel)",
   "language": "python",
   "name": "python3"
  },
  "language_info": {
   "codemirror_mode": {
    "name": "ipython",
    "version": 3
   },
   "file_extension": ".py",
   "mimetype": "text/x-python",
   "name": "python",
   "nbconvert_exporter": "python",
   "pygments_lexer": "ipython3",
   "version": "3.9.12"
  }
 },
 "nbformat": 4,
 "nbformat_minor": 5
}
