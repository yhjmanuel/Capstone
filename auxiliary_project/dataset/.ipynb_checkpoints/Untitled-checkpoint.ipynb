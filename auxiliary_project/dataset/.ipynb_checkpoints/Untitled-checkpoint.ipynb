{
 "cells": [
  {
   "cell_type": "code",
   "execution_count": 1,
   "id": "ab0946b9",
   "metadata": {},
   "outputs": [],
   "source": [
    "import torch"
   ]
  },
  {
   "cell_type": "code",
   "execution_count": 12,
   "id": "198cf078",
   "metadata": {},
   "outputs": [],
   "source": [
    "state_embed = torch.randn(10, 50)"
   ]
  },
  {
   "cell_type": "code",
   "execution_count": 33,
   "id": "be062aac",
   "metadata": {},
   "outputs": [],
   "source": [
    "# read the hierarchy tree file\n",
    "def get_hierarchy(hierarchy_file):\n",
    "    nodes = {}\n",
    "    with open(hierarchy_file) as f:\n",
    "        for line in f:\n",
    "            node = ast.literal_eval(line)\n",
    "            title = node['title']\n",
    "            del node['title']\n",
    "            nodes[title] = node\n",
    "    return nodes"
   ]
  },
  {
   "cell_type": "code",
   "execution_count": 87,
   "id": "129417d8",
   "metadata": {},
   "outputs": [
    {
     "data": {
      "text/plain": [
       "{'root': {'parents': [],\n",
       "  'children': ['Beauty & Spas',\n",
       "   'Active Life',\n",
       "   'Hotels & Travel',\n",
       "   'Mass Media',\n",
       "   'Home Services',\n",
       "   'Event Planning & Services',\n",
       "   'Pets',\n",
       "   'Arts & Entertainment',\n",
       "   'Nightlife',\n",
       "   'Shopping',\n",
       "   'Food',\n",
       "   'Health & Medical',\n",
       "   'Religious Organizations',\n",
       "   'Restaurants',\n",
       "   'Professional Services',\n",
       "   'Local Flavor',\n",
       "   'Financial Services',\n",
       "   'Local Services',\n",
       "   'Public Services & Government',\n",
       "   'Automotive',\n",
       "   'Education']},\n",
       " 'Beauty & Spas': {'parents': ['root'],\n",
       "  'children': ['Piercing',\n",
       "   'Barbers',\n",
       "   'Makeup Artists',\n",
       "   'Eyelash Service',\n",
       "   'Hair Removal',\n",
       "   'Eyebrow Services',\n",
       "   'Nail Salons',\n",
       "   'Massage',\n",
       "   'Tanning',\n",
       "   'Day Spas',\n",
       "   'Hair Extensions',\n",
       "   'Tattoo',\n",
       "   'Skin Care',\n",
       "   'Permanent Makeup',\n",
       "   'Cosmetics & Beauty Supply',\n",
       "   'Hair Salons',\n",
       "   'Medical Spas']},\n",
       " 'Active Life': {'parents': ['root'],\n",
       "  'children': ['Summer Camps',\n",
       "   'Bike Rentals',\n",
       "   'Fitness & Instruction',\n",
       "   'Boating',\n",
       "   'Escape Games',\n",
       "   'Amusement Parks',\n",
       "   'Hiking',\n",
       "   'Gun/Rifle Ranges',\n",
       "   'Bowling',\n",
       "   'Sports Clubs',\n",
       "   'Golf',\n",
       "   'Recreation Centers',\n",
       "   'Swimming Pools',\n",
       "   'Parks',\n",
       "   'Playgrounds',\n",
       "   'Kids Activities',\n",
       "   'Gymnastics',\n",
       "   'Amateur Sports Teams']},\n",
       " 'Hotels & Travel': {'parents': ['root'],\n",
       "  'children': ['Travel Services',\n",
       "   'Hotels',\n",
       "   'Tours',\n",
       "   'Resorts',\n",
       "   'Bed & Breakfast',\n",
       "   'Car Rental',\n",
       "   'Airports',\n",
       "   'Transportation']},\n",
       " 'Mass Media': {'parents': ['root'], 'children': ['Print Media']},\n",
       " 'Home Services': {'parents': ['root'],\n",
       "  'children': ['Painters',\n",
       "   'Electricians',\n",
       "   'Carpet Installation',\n",
       "   'Plumbing',\n",
       "   'Fences & Gates',\n",
       "   'Flooring',\n",
       "   'Drywall Installation & Repair',\n",
       "   'Pool & Hot Tub Service',\n",
       "   'Packing Services',\n",
       "   'Television Service Providers',\n",
       "   'Carpeting',\n",
       "   'Irrigation',\n",
       "   'Water Heater Installation/Repair',\n",
       "   'Handyman',\n",
       "   'Home Window Tinting',\n",
       "   'Damage Restoration',\n",
       "   'Gardeners',\n",
       "   'Home Theatre Installation',\n",
       "   'Gutter Services',\n",
       "   'Shades & Blinds',\n",
       "   'Tree Services',\n",
       "   'Cabinetry',\n",
       "   'Interior Design',\n",
       "   'Home Cleaning',\n",
       "   'Pressure Washers',\n",
       "   'Security Systems',\n",
       "   'Lighting Fixtures & Equipment',\n",
       "   'Masonry/Concrete',\n",
       "   'Internet Service Providers',\n",
       "   'Glass & Mirrors',\n",
       "   'Windows Installation',\n",
       "   'Home Organization',\n",
       "   'Movers',\n",
       "   'Real Estate',\n",
       "   'Roofing',\n",
       "   'Building Supplies',\n",
       "   'Contractors',\n",
       "   'Home Automation',\n",
       "   'Pool Cleaners',\n",
       "   'Tiling',\n",
       "   'Window Washing',\n",
       "   'Door Sales/Installation',\n",
       "   'Solar Installation',\n",
       "   'Landscape Architects',\n",
       "   'Refinishing Services',\n",
       "   'Garage Door Services',\n",
       "   'Keys & Locksmiths',\n",
       "   'Home Inspectors',\n",
       "   'Water Purification Services',\n",
       "   'Landscaping',\n",
       "   'Heating & Air Conditioning/HVAC']},\n",
       " 'Event Planning & Services': {'parents': ['root'],\n",
       "  'children': ['Cards & Stationery',\n",
       "   'Wedding Planning',\n",
       "   'Videographers',\n",
       "   'Photographers',\n",
       "   'Caterers',\n",
       "   'Hotels',\n",
       "   'Party Bus Rentals',\n",
       "   'Party Equipment Rentals',\n",
       "   'Party Supplies',\n",
       "   'Venues & Event Spaces',\n",
       "   'DJs',\n",
       "   'Party & Event Planning',\n",
       "   'Photo Booth Rentals']},\n",
       " 'Pets': {'parents': ['root'],\n",
       "  'children': ['Veterinarians',\n",
       "   'Pet Adoption',\n",
       "   'Animal Shelters',\n",
       "   'Pet Services',\n",
       "   'Pet Stores']},\n",
       " 'Arts & Entertainment': {'parents': ['root'],\n",
       "  'children': ['Casinos',\n",
       "   'Museums',\n",
       "   'Wineries',\n",
       "   'Arcades',\n",
       "   'Supernatural Readings',\n",
       "   'Performing Arts',\n",
       "   'Art Galleries',\n",
       "   'Cinema',\n",
       "   'Social Clubs',\n",
       "   'Music Venues',\n",
       "   'Festivals',\n",
       "   'Stadiums & Arenas',\n",
       "   'Jazz & Blues']},\n",
       " 'Nightlife': {'parents': ['root'],\n",
       "  'children': ['Adult Entertainment',\n",
       "   'Dance Clubs',\n",
       "   'Karaoke',\n",
       "   'Comedy Clubs',\n",
       "   'Bars',\n",
       "   'Music Venues',\n",
       "   'Pool Halls',\n",
       "   'Jazz & Blues']},\n",
       " 'Shopping': {'parents': ['root'],\n",
       "  'children': ['Adult',\n",
       "   'Wholesale Stores',\n",
       "   'Antiques',\n",
       "   'Fashion',\n",
       "   'Shopping Centers',\n",
       "   'Department Stores',\n",
       "   'Outlet Stores',\n",
       "   'Discount Store',\n",
       "   'Gold Buyers',\n",
       "   'Office Equipment',\n",
       "   'Thrift Stores',\n",
       "   'Flowers & Gifts',\n",
       "   'Knitting Supplies',\n",
       "   'Hobby Shops',\n",
       "   'Customized Merchandise',\n",
       "   'Tobacco Shops',\n",
       "   'Watches',\n",
       "   'Toy Stores',\n",
       "   'Art Galleries',\n",
       "   'Wigs',\n",
       "   'Computers',\n",
       "   'Musical Instruments & Teachers',\n",
       "   'Photography Stores & Services',\n",
       "   'Vitamins & Supplements',\n",
       "   'Guns & Ammo',\n",
       "   'Bridal',\n",
       "   'Arts & Crafts',\n",
       "   'Jewelry',\n",
       "   'Baby Gear & Furniture',\n",
       "   'Vape Shops',\n",
       "   'Drugstores',\n",
       "   'Eyewear & Opticians',\n",
       "   'Pawn Shops',\n",
       "   'Medical Supplies',\n",
       "   'Personal Shopping',\n",
       "   'Electronics',\n",
       "   'Mobile Phone Accessories',\n",
       "   'Mobile Phones',\n",
       "   'Cosmetics & Beauty Supply',\n",
       "   'Home & Garden',\n",
       "   'Head Shops',\n",
       "   'Sporting Goods',\n",
       "   'Vinyl Records',\n",
       "   'Video Game Stores',\n",
       "   'Comic Books',\n",
       "   'Videos & Video Game Rental',\n",
       "   'Music & DVDs',\n",
       "   'Bookstores']},\n",
       " 'Food': {'parents': ['root'],\n",
       "  'children': ['Convenience Stores',\n",
       "   'Do-It-Yourself Food',\n",
       "   'Farmers Market',\n",
       "   'Food Delivery Services',\n",
       "   'Coffee & Tea',\n",
       "   'Delicatessen',\n",
       "   'Wineries',\n",
       "   'Butcher',\n",
       "   'Bagels',\n",
       "   'Poke',\n",
       "   'Shaved Ice',\n",
       "   'Internet Cafes',\n",
       "   'Street Vendors',\n",
       "   'Tea Rooms',\n",
       "   'Bakeries',\n",
       "   'Donuts',\n",
       "   'Coffee Roasteries',\n",
       "   'Specialty Food',\n",
       "   'Grocery',\n",
       "   'Cupcakes',\n",
       "   'Organic Stores',\n",
       "   'Patisserie/Cake Shop',\n",
       "   'Imported Food',\n",
       "   'Custom Cakes',\n",
       "   'Food Trucks',\n",
       "   'Desserts',\n",
       "   'Breweries',\n",
       "   'Ice Cream & Frozen Yogurt',\n",
       "   'Juice Bars & Smoothies',\n",
       "   'Bubble Tea',\n",
       "   'Gelato']},\n",
       " 'Health & Medical': {'parents': ['root'],\n",
       "  'children': ['Acupuncture',\n",
       "   'Laser Eye Surgery/Lasik',\n",
       "   'Massage Therapy',\n",
       "   'Counseling & Mental Health',\n",
       "   'Pharmacy',\n",
       "   'Nutritionists',\n",
       "   'Cannabis Clinics',\n",
       "   'Reflexology',\n",
       "   'Reiki',\n",
       "   'Medical Centers',\n",
       "   'Weight Loss Centers',\n",
       "   'Optometrists',\n",
       "   'Physical Therapy',\n",
       "   'Chiropractors',\n",
       "   'Retirement Homes',\n",
       "   'Home Health Care',\n",
       "   'Dentists',\n",
       "   'Rehabilitation Center',\n",
       "   'Urgent Care',\n",
       "   'Doctors',\n",
       "   'Hospitals',\n",
       "   'Traditional Chinese Medicine',\n",
       "   'Diagnostic Services',\n",
       "   'Medical Spas']},\n",
       " 'Religious Organizations': {'parents': ['root'], 'children': ['Churches']},\n",
       " 'Restaurants': {'parents': ['root'],\n",
       "  'children': ['Breakfast & Brunch',\n",
       "   'Japanese',\n",
       "   'American (New)',\n",
       "   'Creperies',\n",
       "   'Tex-Mex',\n",
       "   'Sushi Bars',\n",
       "   'Pizza',\n",
       "   'Greek',\n",
       "   'Chicken Wings',\n",
       "   'Swabian',\n",
       "   'Canadian (New)',\n",
       "   'Steakhouses',\n",
       "   'Noodles',\n",
       "   'Cajun/Creole',\n",
       "   'Gastropubs',\n",
       "   'Buffets',\n",
       "   'Vegetarian',\n",
       "   'Halal',\n",
       "   'Burgers',\n",
       "   'Portuguese',\n",
       "   'Comfort Food',\n",
       "   'Filipino',\n",
       "   'Food Stands',\n",
       "   'Vegan',\n",
       "   'International',\n",
       "   'French',\n",
       "   'Soup',\n",
       "   'Southern',\n",
       "   'African',\n",
       "   'Persian/Iranian',\n",
       "   'Afghan',\n",
       "   'British',\n",
       "   'Spanish',\n",
       "   'Thai',\n",
       "   'Delis',\n",
       "   'American (Traditional)',\n",
       "   'Seafood',\n",
       "   'German',\n",
       "   'Cafes',\n",
       "   'Diners',\n",
       "   'Soul Food',\n",
       "   'Indian',\n",
       "   'Caribbean',\n",
       "   'Gluten-Free',\n",
       "   'Tapas Bars',\n",
       "   'Chinese',\n",
       "   'Brasseries',\n",
       "   'Mexican',\n",
       "   'Chicken Shop',\n",
       "   'Vietnamese',\n",
       "   'Fast Food',\n",
       "   'Modern European',\n",
       "   'Sandwiches',\n",
       "   'Wraps',\n",
       "   'Latin American',\n",
       "   'Turkish',\n",
       "   'Hot Dogs',\n",
       "   'Middle Eastern',\n",
       "   'Hawaiian',\n",
       "   'Bistros',\n",
       "   'Poutineries',\n",
       "   'Mediterranean',\n",
       "   'Salad',\n",
       "   'Asian Fusion',\n",
       "   'Pakistani',\n",
       "   'Korean',\n",
       "   'Taiwanese',\n",
       "   'Kosher',\n",
       "   'Barbeque',\n",
       "   'Cheesesteaks',\n",
       "   'Italian',\n",
       "   'Food Court',\n",
       "   'Tapas/Small Plates',\n",
       "   'Irish',\n",
       "   'Fish & Chips']},\n",
       " 'Professional Services': {'parents': ['root'],\n",
       "  'children': ['Graphic Design',\n",
       "   'Employment Agencies',\n",
       "   'Marketing',\n",
       "   'Advertising',\n",
       "   'Legal Services',\n",
       "   'Internet Service Providers',\n",
       "   'Web Design',\n",
       "   'Lawyers',\n",
       "   'Signmaking',\n",
       "   'Office Cleaning',\n",
       "   'Life Coach',\n",
       "   'Video/Film Production',\n",
       "   'Accountants']},\n",
       " 'Local Flavor': {'parents': ['root'], 'children': []},\n",
       " 'Financial Services': {'parents': ['root'],\n",
       "  'children': ['Banks & Credit Unions',\n",
       "   'Insurance',\n",
       "   'Check Cashing/Pay-day Loans',\n",
       "   'Financial Advising',\n",
       "   'Tax Services']},\n",
       " 'Local Services': {'parents': ['root'],\n",
       "  'children': ['Screen Printing/T-Shirt Printing',\n",
       "   'Recycling Center',\n",
       "   'Jewelry Repair',\n",
       "   'Child Care & Day Care',\n",
       "   'Bike Repair/Maintenance',\n",
       "   'Appliances & Repair',\n",
       "   'Shoe Repair',\n",
       "   'Shipping Centers',\n",
       "   'Musical Instrument Services',\n",
       "   'Furniture Reupholstery',\n",
       "   'Pest Control',\n",
       "   'IT Services & Computer Repair',\n",
       "   'Community Service/Non-Profit',\n",
       "   'Laundry Services',\n",
       "   'Sewing & Alterations',\n",
       "   'Junk Removal & Hauling',\n",
       "   'Self Storage',\n",
       "   'Air Duct Cleaning',\n",
       "   'Printing Services',\n",
       "   'Funeral Services & Cemeteries',\n",
       "   'Couriers & Delivery Services',\n",
       "   'Screen Printing',\n",
       "   'Carpet Cleaning',\n",
       "   'Watch Repair',\n",
       "   'Notaries',\n",
       "   'Electronics Repair']},\n",
       " 'Public Services & Government': {'parents': ['root'],\n",
       "  'children': ['Departments of Motor Vehicles',\n",
       "   'Libraries',\n",
       "   'Post Offices',\n",
       "   'Landmarks & Historical Buildings']},\n",
       " 'Automotive': {'parents': ['root'],\n",
       "  'children': ['Tires',\n",
       "   'Roadside Assistance',\n",
       "   'Auto Customization',\n",
       "   'Auto Glass Services',\n",
       "   'RV Repair',\n",
       "   'Car Wash',\n",
       "   'Gas Stations',\n",
       "   'Towing',\n",
       "   'RV Dealers',\n",
       "   'Auto Parts & Supplies',\n",
       "   'Auto Detailing',\n",
       "   'Parking',\n",
       "   'Motorcycle Repair',\n",
       "   'Smog Check Stations',\n",
       "   'Motorcycle Dealers',\n",
       "   'Used Car Dealers',\n",
       "   'Body Shops',\n",
       "   'Wheel & Rim Repair',\n",
       "   'Auto Repair',\n",
       "   'Car Dealers',\n",
       "   'Vehicle Wraps',\n",
       "   'Car Stereo Installation',\n",
       "   'Windshield Installation & Repair',\n",
       "   'Oil Change Stations',\n",
       "   'Truck Rental',\n",
       "   'Transmission Repair',\n",
       "   'Auto Loan Providers']},\n",
       " 'Education': {'parents': ['root'],\n",
       "  'children': ['Elementary Schools',\n",
       "   'Colleges & Universities',\n",
       "   'Middle Schools & High Schools',\n",
       "   'Art Classes',\n",
       "   'Educational Services',\n",
       "   'Preschools',\n",
       "   'Private Tutors',\n",
       "   'Specialty Schools',\n",
       "   'Adult Education']},\n",
       " 'Piercing': {'parents': ['Beauty & Spas'], 'children': []},\n",
       " 'Barbers': {'parents': ['Beauty & Spas'], 'children': []},\n",
       " 'Makeup Artists': {'parents': ['Beauty & Spas'], 'children': []},\n",
       " 'Eyelash Service': {'parents': ['Beauty & Spas'], 'children': []},\n",
       " 'Hair Removal': {'parents': ['Beauty & Spas'],\n",
       "  'children': ['Laser Hair Removal', 'Threading Services', 'Waxing']},\n",
       " 'Eyebrow Services': {'parents': ['Beauty & Spas'], 'children': []},\n",
       " 'Nail Salons': {'parents': ['Beauty & Spas'],\n",
       "  'children': ['Nail Technicians']},\n",
       " 'Massage': {'parents': ['Beauty & Spas'], 'children': []},\n",
       " 'Tanning': {'parents': ['Beauty & Spas'], 'children': ['Spray Tanning']},\n",
       " 'Day Spas': {'parents': ['Beauty & Spas'], 'children': []},\n",
       " 'Hair Extensions': {'parents': ['Hair Salons', 'Beauty & Spas'],\n",
       "  'children': []},\n",
       " 'Tattoo': {'parents': ['Beauty & Spas'], 'children': []},\n",
       " 'Skin Care': {'parents': ['Beauty & Spas'], 'children': []},\n",
       " 'Permanent Makeup': {'parents': ['Beauty & Spas'], 'children': []},\n",
       " 'Cosmetics & Beauty Supply': {'parents': ['Beauty & Spas', 'Shopping'],\n",
       "  'children': []},\n",
       " 'Hair Salons': {'parents': ['Beauty & Spas'],\n",
       "  'children': ['Hair Stylists',\n",
       "   \"Men's Hair Salons\",\n",
       "   'Blow Dry/Out Services',\n",
       "   'Hair Extensions']},\n",
       " 'Medical Spas': {'parents': ['Health & Medical', 'Beauty & Spas'],\n",
       "  'children': []},\n",
       " 'Summer Camps': {'parents': ['Active Life'], 'children': []},\n",
       " 'Bike Rentals': {'parents': ['Active Life'], 'children': []},\n",
       " 'Fitness & Instruction': {'parents': ['Active Life'],\n",
       "  'children': ['Boot Camps',\n",
       "   'Barre Classes',\n",
       "   'Trainers',\n",
       "   'Gyms',\n",
       "   'Pilates',\n",
       "   'Yoga',\n",
       "   'Boxing',\n",
       "   'Martial Arts',\n",
       "   'Dance Studios']},\n",
       " 'Boating': {'parents': ['Active Life'], 'children': []},\n",
       " 'Escape Games': {'parents': ['Active Life'], 'children': []},\n",
       " 'Amusement Parks': {'parents': ['Active Life'], 'children': []},\n",
       " 'Hiking': {'parents': ['Active Life'], 'children': []},\n",
       " 'Gun/Rifle Ranges': {'parents': ['Active Life'], 'children': []},\n",
       " 'Bowling': {'parents': ['Active Life'], 'children': []},\n",
       " 'Sports Clubs': {'parents': ['Active Life'], 'children': []},\n",
       " 'Golf': {'parents': ['Active Life'], 'children': []},\n",
       " 'Recreation Centers': {'parents': ['Active Life'], 'children': []},\n",
       " 'Swimming Pools': {'parents': ['Active Life'], 'children': []},\n",
       " 'Parks': {'parents': ['Active Life'], 'children': ['Dog Parks']},\n",
       " 'Playgrounds': {'parents': ['Active Life'], 'children': []},\n",
       " 'Kids Activities': {'parents': ['Active Life'], 'children': []},\n",
       " 'Gymnastics': {'parents': ['Active Life'], 'children': []},\n",
       " 'Amateur Sports Teams': {'parents': ['Active Life'], 'children': []},\n",
       " 'Travel Services': {'parents': ['Hotels & Travel'], 'children': []},\n",
       " 'Hotels': {'parents': ['Event Planning & Services', 'Hotels & Travel'],\n",
       "  'children': []},\n",
       " 'Tours': {'parents': ['Hotels & Travel'], 'children': []},\n",
       " 'Resorts': {'parents': ['Hotels & Travel'], 'children': []},\n",
       " 'Bed & Breakfast': {'parents': ['Hotels & Travel'], 'children': []},\n",
       " 'Car Rental': {'parents': ['Hotels & Travel'], 'children': []},\n",
       " 'Airports': {'parents': ['Hotels & Travel'], 'children': []},\n",
       " 'Transportation': {'parents': ['Hotels & Travel'],\n",
       "  'children': ['Public Transportation',\n",
       "   'Airlines',\n",
       "   'Limos',\n",
       "   'Taxis',\n",
       "   'Airport Shuttles']},\n",
       " 'Print Media': {'parents': ['Mass Media'], 'children': []},\n",
       " 'Painters': {'parents': ['Home Services'], 'children': []},\n",
       " 'Electricians': {'parents': ['Home Services'], 'children': []},\n",
       " 'Carpet Installation': {'parents': ['Home Services'], 'children': []},\n",
       " 'Plumbing': {'parents': ['Home Services'], 'children': []},\n",
       " 'Fences & Gates': {'parents': ['Home Services'], 'children': []},\n",
       " 'Flooring': {'parents': ['Home Services'], 'children': []},\n",
       " 'Drywall Installation & Repair': {'parents': ['Home Services'],\n",
       "  'children': []},\n",
       " 'Pool & Hot Tub Service': {'parents': ['Home Services'], 'children': []},\n",
       " 'Packing Services': {'parents': ['Home Services'], 'children': []},\n",
       " 'Television Service Providers': {'parents': ['Home Services'],\n",
       "  'children': []},\n",
       " 'Carpeting': {'parents': ['Home Services'], 'children': []},\n",
       " 'Irrigation': {'parents': ['Home Services'], 'children': []},\n",
       " 'Water Heater Installation/Repair': {'parents': ['Home Services'],\n",
       "  'children': []},\n",
       " 'Handyman': {'parents': ['Home Services'], 'children': []},\n",
       " 'Home Window Tinting': {'parents': ['Home Services'], 'children': []},\n",
       " 'Damage Restoration': {'parents': ['Home Services'], 'children': []},\n",
       " 'Gardeners': {'parents': ['Home Services'], 'children': []},\n",
       " 'Home Theatre Installation': {'parents': ['Home Services'], 'children': []},\n",
       " 'Gutter Services': {'parents': ['Home Services'], 'children': []},\n",
       " 'Shades & Blinds': {'parents': ['Home Services'], 'children': []},\n",
       " 'Tree Services': {'parents': ['Home Services'], 'children': []},\n",
       " 'Cabinetry': {'parents': ['Home Services'], 'children': []},\n",
       " 'Interior Design': {'parents': ['Home Services'], 'children': []},\n",
       " 'Home Cleaning': {'parents': ['Home Services'], 'children': []},\n",
       " 'Pressure Washers': {'parents': ['Home Services'], 'children': []},\n",
       " 'Security Systems': {'parents': ['Home Services'], 'children': []},\n",
       " 'Lighting Fixtures & Equipment': {'parents': ['Home Services'],\n",
       "  'children': []},\n",
       " 'Masonry/Concrete': {'parents': ['Home Services'], 'children': []},\n",
       " 'Internet Service Providers': {'parents': ['Home Services',\n",
       "   'Professional Services'],\n",
       "  'children': []},\n",
       " 'Glass & Mirrors': {'parents': ['Home Services'], 'children': []},\n",
       " 'Windows Installation': {'parents': ['Home Services'], 'children': []},\n",
       " 'Home Organization': {'parents': ['Home Services'], 'children': []},\n",
       " 'Movers': {'parents': ['Home Services'], 'children': []},\n",
       " 'Real Estate': {'parents': ['Home Services'],\n",
       "  'children': ['Real Estate Services',\n",
       "   'Apartments',\n",
       "   'Real Estate Agents',\n",
       "   'Commercial Real Estate',\n",
       "   'Mortgage Brokers',\n",
       "   'Property Management']},\n",
       " 'Roofing': {'parents': ['Home Services'], 'children': []},\n",
       " 'Building Supplies': {'parents': ['Home Services'], 'children': []},\n",
       " 'Contractors': {'parents': ['Home Services'], 'children': []},\n",
       " 'Home Automation': {'parents': ['Home Services'], 'children': []},\n",
       " 'Pool Cleaners': {'parents': ['Home Services'], 'children': []},\n",
       " 'Tiling': {'parents': ['Home Services'], 'children': []},\n",
       " 'Window Washing': {'parents': ['Home Services'], 'children': []},\n",
       " 'Door Sales/Installation': {'parents': ['Home Services'], 'children': []},\n",
       " 'Solar Installation': {'parents': ['Home Services'], 'children': []},\n",
       " 'Landscape Architects': {'parents': ['Home Services'], 'children': []},\n",
       " 'Refinishing Services': {'parents': ['Home Services'], 'children': []},\n",
       " 'Garage Door Services': {'parents': ['Home Services'], 'children': []},\n",
       " 'Keys & Locksmiths': {'parents': ['Home Services'], 'children': []},\n",
       " 'Home Inspectors': {'parents': ['Home Services'], 'children': []},\n",
       " 'Water Purification Services': {'parents': ['Home Services'], 'children': []},\n",
       " 'Landscaping': {'parents': ['Home Services'], 'children': []},\n",
       " 'Heating & Air Conditioning/HVAC': {'parents': ['Home Services'],\n",
       "  'children': []},\n",
       " 'Cards & Stationery': {'parents': ['Event Planning & Services',\n",
       "   'Flowers & Gifts',\n",
       "   'Arts & Crafts'],\n",
       "  'children': []},\n",
       " 'Wedding Planning': {'parents': ['Event Planning & Services'],\n",
       "  'children': []},\n",
       " 'Videographers': {'parents': ['Event Planning & Services'], 'children': []},\n",
       " 'Photographers': {'parents': ['Event Planning & Services'],\n",
       "  'children': ['Event Photography', 'Session Photography']},\n",
       " 'Caterers': {'parents': ['Event Planning & Services'], 'children': []},\n",
       " 'Party Bus Rentals': {'parents': ['Event Planning & Services'],\n",
       "  'children': []},\n",
       " 'Party Equipment Rentals': {'parents': ['Event Planning & Services'],\n",
       "  'children': []},\n",
       " 'Party Supplies': {'parents': ['Event Planning & Services'], 'children': []},\n",
       " 'Venues & Event Spaces': {'parents': ['Event Planning & Services'],\n",
       "  'children': []},\n",
       " 'DJs': {'parents': ['Event Planning & Services'], 'children': []},\n",
       " 'Party & Event Planning': {'parents': ['Event Planning & Services'],\n",
       "  'children': []},\n",
       " 'Photo Booth Rentals': {'parents': ['Event Planning & Services'],\n",
       "  'children': []},\n",
       " 'Veterinarians': {'parents': ['Pets'], 'children': []},\n",
       " 'Pet Adoption': {'parents': ['Pets'], 'children': []},\n",
       " 'Animal Shelters': {'parents': ['Pets'], 'children': []},\n",
       " 'Pet Services': {'parents': ['Pets'],\n",
       "  'children': ['Dog Walkers', 'Pet Training', 'Pet Sitting', 'Pet Groomers']},\n",
       " 'Pet Stores': {'parents': ['Pets'], 'children': []},\n",
       " 'Casinos': {'parents': ['Arts & Entertainment'], 'children': []},\n",
       " 'Museums': {'parents': ['Arts & Entertainment'], 'children': []},\n",
       " 'Wineries': {'parents': ['Arts & Entertainment', 'Food'], 'children': []},\n",
       " 'Arcades': {'parents': ['Arts & Entertainment'], 'children': []},\n",
       " 'Supernatural Readings': {'parents': ['Arts & Entertainment'],\n",
       "  'children': []},\n",
       " 'Performing Arts': {'parents': ['Arts & Entertainment'], 'children': []},\n",
       " 'Art Galleries': {'parents': ['Arts & Entertainment', 'Shopping'],\n",
       "  'children': []},\n",
       " 'Cinema': {'parents': ['Arts & Entertainment'], 'children': []},\n",
       " 'Social Clubs': {'parents': ['Arts & Entertainment'], 'children': []},\n",
       " 'Music Venues': {'parents': ['Arts & Entertainment', 'Nightlife'],\n",
       "  'children': []},\n",
       " 'Festivals': {'parents': ['Arts & Entertainment'], 'children': []},\n",
       " 'Stadiums & Arenas': {'parents': ['Arts & Entertainment'], 'children': []},\n",
       " 'Jazz & Blues': {'parents': ['Arts & Entertainment', 'Nightlife'],\n",
       "  'children': []},\n",
       " 'Adult Entertainment': {'parents': ['Nightlife'], 'children': []},\n",
       " 'Dance Clubs': {'parents': ['Nightlife'], 'children': []},\n",
       " 'Karaoke': {'parents': ['Nightlife'], 'children': []},\n",
       " 'Comedy Clubs': {'parents': ['Nightlife'], 'children': []},\n",
       " 'Bars': {'parents': ['Nightlife'],\n",
       "  'children': ['Sports Bars',\n",
       "   'Pubs',\n",
       "   'Gay Bars',\n",
       "   'Hookah Bars',\n",
       "   'Beer Bar',\n",
       "   'Dive Bars',\n",
       "   'Cocktail Bars',\n",
       "   'Lounges',\n",
       "   'Wine Bars']},\n",
       " 'Pool Halls': {'parents': ['Nightlife'], 'children': []},\n",
       " 'Adult': {'parents': ['Shopping'], 'children': []},\n",
       " 'Wholesale Stores': {'parents': ['Shopping'], 'children': []},\n",
       " 'Antiques': {'parents': ['Shopping'], 'children': []},\n",
       " 'Fashion': {'parents': ['Shopping'],\n",
       "  'children': [\"Men's Clothing\",\n",
       "   'Plus Size Fashion',\n",
       "   'Department Stores',\n",
       "   'Accessories',\n",
       "   'Shoe Stores',\n",
       "   \"Children's Clothing\",\n",
       "   'Formal Wear',\n",
       "   'Leather Goods',\n",
       "   'Lingerie',\n",
       "   'Sports Wear',\n",
       "   \"Women's Clothing\"]},\n",
       " 'Shopping Centers': {'parents': ['Shopping'], 'children': []},\n",
       " 'Department Stores': {'parents': ['Shopping', 'Fashion'], 'children': []},\n",
       " 'Outlet Stores': {'parents': ['Shopping'], 'children': []},\n",
       " 'Discount Store': {'parents': ['Shopping'], 'children': []},\n",
       " 'Gold Buyers': {'parents': ['Shopping'], 'children': []},\n",
       " 'Office Equipment': {'parents': ['Shopping'], 'children': []},\n",
       " 'Thrift Stores': {'parents': ['Shopping'], 'children': []},\n",
       " 'Flowers & Gifts': {'parents': ['Shopping'],\n",
       "  'children': ['Cards & Stationery', 'Gift Shops', 'Florists']},\n",
       " 'Knitting Supplies': {'parents': ['Shopping'], 'children': []},\n",
       " 'Hobby Shops': {'parents': ['Shopping'], 'children': []},\n",
       " 'Customized Merchandise': {'parents': ['Shopping'], 'children': []},\n",
       " 'Tobacco Shops': {'parents': ['Shopping'], 'children': []},\n",
       " 'Watches': {'parents': ['Shopping'], 'children': []},\n",
       " 'Toy Stores': {'parents': ['Shopping'], 'children': []},\n",
       " 'Wigs': {'parents': ['Shopping'], 'children': []},\n",
       " 'Computers': {'parents': ['Shopping'], 'children': []},\n",
       " 'Musical Instruments & Teachers': {'parents': ['Shopping'], 'children': []},\n",
       " 'Photography Stores & Services': {'parents': ['Shopping'], 'children': []},\n",
       " 'Vitamins & Supplements': {'parents': ['Shopping'], 'children': []},\n",
       " 'Guns & Ammo': {'parents': ['Shopping'], 'children': []},\n",
       " 'Bridal': {'parents': ['Shopping'], 'children': []},\n",
       " 'Arts & Crafts': {'parents': ['Shopping'],\n",
       "  'children': ['Cards & Stationery',\n",
       "   'Costumes',\n",
       "   'Framing',\n",
       "   'Fabric Stores',\n",
       "   'Art Supplies']},\n",
       " 'Jewelry': {'parents': ['Shopping'], 'children': []},\n",
       " 'Baby Gear & Furniture': {'parents': ['Shopping'], 'children': []},\n",
       " 'Vape Shops': {'parents': ['Shopping'], 'children': []},\n",
       " 'Drugstores': {'parents': ['Shopping'], 'children': []},\n",
       " 'Eyewear & Opticians': {'parents': ['Shopping'], 'children': []},\n",
       " 'Pawn Shops': {'parents': ['Shopping'], 'children': []},\n",
       " 'Medical Supplies': {'parents': ['Shopping'], 'children': []},\n",
       " 'Personal Shopping': {'parents': ['Shopping'], 'children': []},\n",
       " 'Electronics': {'parents': ['Shopping'], 'children': []},\n",
       " 'Mobile Phone Accessories': {'parents': ['Shopping'], 'children': []},\n",
       " 'Mobile Phones': {'parents': ['Shopping'], 'children': []},\n",
       " 'Home & Garden': {'parents': ['Shopping'],\n",
       "  'children': ['Hot Tub & Pool',\n",
       "   'Furniture Stores',\n",
       "   'Appliances',\n",
       "   'Rugs',\n",
       "   'Kitchen & Bath',\n",
       "   'Nurseries & Gardening',\n",
       "   'Home Decor',\n",
       "   'Hardware Stores',\n",
       "   'Mattresses']},\n",
       " 'Head Shops': {'parents': ['Shopping'], 'children': []},\n",
       " 'Sporting Goods': {'parents': ['Shopping'],\n",
       "  'children': ['Outdoor Gear', 'Sports Wear', 'Bikes']},\n",
       " 'Vinyl Records': {'parents': ['Shopping'], 'children': []},\n",
       " 'Video Game Stores': {'parents': ['Shopping'], 'children': []},\n",
       " 'Comic Books': {'parents': ['Shopping'], 'children': []},\n",
       " 'Videos & Video Game Rental': {'parents': ['Shopping'], 'children': []},\n",
       " 'Music & DVDs': {'parents': ['Shopping'], 'children': []},\n",
       " 'Bookstores': {'parents': ['Shopping'], 'children': []},\n",
       " 'Convenience Stores': {'parents': ['Food'], 'children': []},\n",
       " 'Do-It-Yourself Food': {'parents': ['Food'], 'children': []},\n",
       " 'Farmers Market': {'parents': ['Food'], 'children': []},\n",
       " 'Food Delivery Services': {'parents': ['Food'], 'children': []},\n",
       " 'Coffee & Tea': {'parents': ['Food'], 'children': []},\n",
       " 'Delicatessen': {'parents': ['Food'], 'children': []},\n",
       " 'Butcher': {'parents': ['Food'], 'children': []},\n",
       " 'Bagels': {'parents': ['Food'], 'children': []},\n",
       " 'Poke': {'parents': ['Food'], 'children': []},\n",
       " 'Shaved Ice': {'parents': ['Food'], 'children': []},\n",
       " 'Internet Cafes': {'parents': ['Food'], 'children': []},\n",
       " 'Street Vendors': {'parents': ['Food'], 'children': []},\n",
       " 'Tea Rooms': {'parents': ['Food'], 'children': []},\n",
       " 'Bakeries': {'parents': ['Food'], 'children': []},\n",
       " 'Donuts': {'parents': ['Food'], 'children': []},\n",
       " 'Coffee Roasteries': {'parents': ['Food'], 'children': []},\n",
       " 'Specialty Food': {'parents': ['Food'],\n",
       "  'children': ['Meat Shops',\n",
       "   'Health Markets',\n",
       "   'Chocolatiers & Shops',\n",
       "   'Cheese Shops',\n",
       "   'Fruits & Veggies',\n",
       "   'Seafood Markets',\n",
       "   'Candy Stores']},\n",
       " 'Grocery': {'parents': ['Food'], 'children': []},\n",
       " 'Cupcakes': {'parents': ['Food'], 'children': []},\n",
       " 'Organic Stores': {'parents': ['Food'], 'children': []},\n",
       " 'Patisserie/Cake Shop': {'parents': ['Food'], 'children': []},\n",
       " 'Imported Food': {'parents': ['Food'], 'children': []},\n",
       " 'Custom Cakes': {'parents': ['Food'], 'children': []},\n",
       " 'Food Trucks': {'parents': ['Food'], 'children': []},\n",
       " 'Desserts': {'parents': ['Food'], 'children': []},\n",
       " 'Breweries': {'parents': ['Food'], 'children': []},\n",
       " 'Ice Cream & Frozen Yogurt': {'parents': ['Food'], 'children': []},\n",
       " 'Juice Bars & Smoothies': {'parents': ['Food'], 'children': []},\n",
       " 'Bubble Tea': {'parents': ['Food'], 'children': []},\n",
       " 'Gelato': {'parents': ['Food'], 'children': []},\n",
       " 'Acupuncture': {'parents': ['Health & Medical'], 'children': []},\n",
       " 'Laser Eye Surgery/Lasik': {'parents': ['Health & Medical'], 'children': []},\n",
       " 'Massage Therapy': {'parents': ['Health & Medical'], 'children': []},\n",
       " 'Counseling & Mental Health': {'parents': ['Health & Medical'],\n",
       "  'children': []},\n",
       " 'Pharmacy': {'parents': ['Health & Medical'], 'children': []},\n",
       " 'Nutritionists': {'parents': ['Health & Medical'], 'children': []},\n",
       " 'Cannabis Clinics': {'parents': ['Health & Medical'], 'children': []},\n",
       " 'Reflexology': {'parents': ['Health & Medical'], 'children': []},\n",
       " 'Reiki': {'parents': ['Health & Medical'], 'children': []},\n",
       " 'Medical Centers': {'parents': ['Health & Medical'], 'children': []},\n",
       " 'Weight Loss Centers': {'parents': ['Health & Medical'], 'children': []},\n",
       " 'Optometrists': {'parents': ['Health & Medical'], 'children': []},\n",
       " 'Physical Therapy': {'parents': ['Health & Medical'], 'children': []},\n",
       " 'Chiropractors': {'parents': ['Health & Medical'], 'children': []},\n",
       " 'Retirement Homes': {'parents': ['Health & Medical'], 'children': []},\n",
       " 'Home Health Care': {'parents': ['Health & Medical'], 'children': []},\n",
       " 'Dentists': {'parents': ['Health & Medical'],\n",
       "  'children': ['General Dentistry',\n",
       "   'Pediatric Dentists',\n",
       "   'Cosmetic Dentists',\n",
       "   'Oral Surgeons',\n",
       "   'Periodontists',\n",
       "   'Orthodontists',\n",
       "   'Endodontists']},\n",
       " 'Rehabilitation Center': {'parents': ['Health & Medical'], 'children': []},\n",
       " 'Urgent Care': {'parents': ['Health & Medical'], 'children': []},\n",
       " 'Doctors': {'parents': ['Health & Medical'],\n",
       "  'children': ['Naturopathic/Holistic',\n",
       "   'Sports Medicine',\n",
       "   'Cosmetic Surgeons',\n",
       "   'Pain Management',\n",
       "   'Internal Medicine',\n",
       "   'Orthopedists',\n",
       "   'Obstetricians & Gynecologists',\n",
       "   'Podiatrists',\n",
       "   'Pediatricians',\n",
       "   'Dermatologists',\n",
       "   'Surgeons',\n",
       "   'Tattoo Removal',\n",
       "   'Family Practice',\n",
       "   'Ophthalmologists']},\n",
       " 'Hospitals': {'parents': ['Health & Medical'], 'children': []},\n",
       " 'Traditional Chinese Medicine': {'parents': ['Health & Medical'],\n",
       "  'children': []},\n",
       " 'Diagnostic Services': {'parents': ['Health & Medical'],\n",
       "  'children': ['Laboratory Testing', 'Diagnostic Imaging']},\n",
       " 'Churches': {'parents': ['Religious Organizations'], 'children': []},\n",
       " 'Breakfast & Brunch': {'parents': ['Restaurants'], 'children': []},\n",
       " 'Japanese': {'parents': ['Restaurants'], 'children': ['Ramen']},\n",
       " 'American (New)': {'parents': ['Restaurants'], 'children': []},\n",
       " 'Creperies': {'parents': ['Restaurants'], 'children': []},\n",
       " 'Tex-Mex': {'parents': ['Restaurants'], 'children': []},\n",
       " 'Sushi Bars': {'parents': ['Restaurants'], 'children': []},\n",
       " 'Pizza': {'parents': ['Restaurants'], 'children': []},\n",
       " 'Greek': {'parents': ['Restaurants'], 'children': []},\n",
       " 'Chicken Wings': {'parents': ['Restaurants'], 'children': []},\n",
       " 'Swabian': {'parents': ['Restaurants'], 'children': []},\n",
       " 'Canadian (New)': {'parents': ['Restaurants'], 'children': []},\n",
       " 'Steakhouses': {'parents': ['Restaurants'], 'children': []},\n",
       " 'Noodles': {'parents': ['Restaurants'], 'children': []},\n",
       " 'Cajun/Creole': {'parents': ['Restaurants'], 'children': []},\n",
       " 'Gastropubs': {'parents': ['Restaurants'], 'children': []},\n",
       " 'Buffets': {'parents': ['Restaurants'], 'children': []},\n",
       " 'Vegetarian': {'parents': ['Restaurants'], 'children': []},\n",
       " 'Halal': {'parents': ['Restaurants'], 'children': []},\n",
       " 'Burgers': {'parents': ['Restaurants'], 'children': []},\n",
       " 'Portuguese': {'parents': ['Restaurants'], 'children': []},\n",
       " 'Comfort Food': {'parents': ['Restaurants'], 'children': []},\n",
       " 'Filipino': {'parents': ['Restaurants'], 'children': []},\n",
       " 'Food Stands': {'parents': ['Restaurants'], 'children': []},\n",
       " 'Vegan': {'parents': ['Restaurants'], 'children': []},\n",
       " 'International': {'parents': ['Restaurants'], 'children': []},\n",
       " 'French': {'parents': ['Restaurants'], 'children': []},\n",
       " 'Soup': {'parents': ['Restaurants'], 'children': []},\n",
       " 'Southern': {'parents': ['Restaurants'], 'children': []},\n",
       " 'African': {'parents': ['Restaurants'], 'children': []},\n",
       " 'Persian/Iranian': {'parents': ['Restaurants'], 'children': []},\n",
       " 'Afghan': {'parents': ['Restaurants'], 'children': []},\n",
       " 'British': {'parents': ['Restaurants'], 'children': []},\n",
       " 'Spanish': {'parents': ['Restaurants'], 'children': []},\n",
       " 'Thai': {'parents': ['Restaurants'], 'children': []},\n",
       " 'Delis': {'parents': ['Restaurants'], 'children': []},\n",
       " 'American (Traditional)': {'parents': ['Restaurants'], 'children': []},\n",
       " 'Seafood': {'parents': ['Restaurants'], 'children': []},\n",
       " 'German': {'parents': ['Restaurants'], 'children': []},\n",
       " 'Cafes': {'parents': ['Restaurants'], 'children': []},\n",
       " 'Diners': {'parents': ['Restaurants'], 'children': []},\n",
       " 'Soul Food': {'parents': ['Restaurants'], 'children': []},\n",
       " 'Indian': {'parents': ['Restaurants'], 'children': []},\n",
       " 'Caribbean': {'parents': ['Restaurants'], 'children': []},\n",
       " 'Gluten-Free': {'parents': ['Restaurants'], 'children': []},\n",
       " 'Tapas Bars': {'parents': ['Restaurants'], 'children': []},\n",
       " 'Chinese': {'parents': ['Restaurants'], 'children': ['Dim Sum']},\n",
       " 'Brasseries': {'parents': ['Restaurants'], 'children': []},\n",
       " 'Mexican': {'parents': ['Restaurants'], 'children': ['Tacos']},\n",
       " 'Chicken Shop': {'parents': ['Restaurants'], 'children': []},\n",
       " 'Vietnamese': {'parents': ['Restaurants'], 'children': []},\n",
       " 'Fast Food': {'parents': ['Restaurants'], 'children': []},\n",
       " 'Modern European': {'parents': ['Restaurants'], 'children': []},\n",
       " 'Sandwiches': {'parents': ['Restaurants'], 'children': []},\n",
       " 'Wraps': {'parents': ['Restaurants'], 'children': []},\n",
       " 'Latin American': {'parents': ['Restaurants'], 'children': []},\n",
       " 'Turkish': {'parents': ['Restaurants'], 'children': []},\n",
       " 'Hot Dogs': {'parents': ['Restaurants'], 'children': []},\n",
       " 'Middle Eastern': {'parents': ['Restaurants'], 'children': ['Lebanese']},\n",
       " 'Hawaiian': {'parents': ['Restaurants'], 'children': []},\n",
       " 'Bistros': {'parents': ['Restaurants'], 'children': []},\n",
       " 'Poutineries': {'parents': ['Restaurants'], 'children': []},\n",
       " 'Mediterranean': {'parents': ['Restaurants'], 'children': ['Falafel']},\n",
       " 'Salad': {'parents': ['Restaurants'], 'children': []},\n",
       " 'Asian Fusion': {'parents': ['Restaurants'], 'children': []},\n",
       " 'Pakistani': {'parents': ['Restaurants'], 'children': []},\n",
       " 'Korean': {'parents': ['Restaurants'], 'children': []},\n",
       " 'Taiwanese': {'parents': ['Restaurants'], 'children': []},\n",
       " 'Kosher': {'parents': ['Restaurants'], 'children': []},\n",
       " 'Barbeque': {'parents': ['Restaurants'], 'children': []},\n",
       " 'Cheesesteaks': {'parents': ['Restaurants'], 'children': []},\n",
       " 'Italian': {'parents': ['Restaurants'], 'children': []},\n",
       " 'Food Court': {'parents': ['Restaurants'], 'children': []},\n",
       " 'Tapas/Small Plates': {'parents': ['Restaurants'], 'children': []},\n",
       " 'Irish': {'parents': ['Restaurants'], 'children': []},\n",
       " 'Fish & Chips': {'parents': ['Restaurants'], 'children': []},\n",
       " 'Graphic Design': {'parents': ['Professional Services'], 'children': []},\n",
       " 'Employment Agencies': {'parents': ['Professional Services'], 'children': []},\n",
       " 'Marketing': {'parents': ['Professional Services'], 'children': []},\n",
       " 'Advertising': {'parents': ['Professional Services'], 'children': []},\n",
       " 'Legal Services': {'parents': ['Professional Services'], 'children': []},\n",
       " 'Web Design': {'parents': ['Professional Services'], 'children': []},\n",
       " 'Lawyers': {'parents': ['Professional Services'],\n",
       "  'children': ['DUI Law',\n",
       "   'Criminal Defense Law',\n",
       "   'Divorce & Family Law',\n",
       "   'Estate Planning Law',\n",
       "   'Personal Injury Law',\n",
       "   'Bankruptcy Law',\n",
       "   'Business Law',\n",
       "   'General Litigation',\n",
       "   'Real Estate Law']},\n",
       " 'Signmaking': {'parents': ['Professional Services'], 'children': []},\n",
       " 'Office Cleaning': {'parents': ['Professional Services'], 'children': []},\n",
       " 'Life Coach': {'parents': ['Professional Services'], 'children': []},\n",
       " 'Video/Film Production': {'parents': ['Professional Services'],\n",
       "  'children': []},\n",
       " 'Accountants': {'parents': ['Professional Services'], 'children': []},\n",
       " 'Banks & Credit Unions': {'parents': ['Financial Services'], 'children': []},\n",
       " 'Insurance': {'parents': ['Financial Services'],\n",
       "  'children': ['Life Insurance', 'Home & Rental Insurance', 'Auto Insurance']},\n",
       " 'Check Cashing/Pay-day Loans': {'parents': ['Financial Services'],\n",
       "  'children': []},\n",
       " 'Financial Advising': {'parents': ['Financial Services'], 'children': []},\n",
       " 'Tax Services': {'parents': ['Financial Services'], 'children': []},\n",
       " 'Screen Printing/T-Shirt Printing': {'parents': ['Local Services'],\n",
       "  'children': []},\n",
       " 'Recycling Center': {'parents': ['Local Services'], 'children': []},\n",
       " 'Jewelry Repair': {'parents': ['Local Services'], 'children': []},\n",
       " 'Child Care & Day Care': {'parents': ['Local Services'], 'children': []},\n",
       " 'Bike Repair/Maintenance': {'parents': ['Local Services'], 'children': []},\n",
       " 'Appliances & Repair': {'parents': ['Local Services'], 'children': []},\n",
       " 'Shoe Repair': {'parents': ['Local Services'], 'children': []},\n",
       " 'Shipping Centers': {'parents': ['Local Services'], 'children': []},\n",
       " 'Musical Instrument Services': {'parents': ['Local Services'],\n",
       "  'children': []},\n",
       " 'Furniture Reupholstery': {'parents': ['Local Services'], 'children': []},\n",
       " 'Pest Control': {'parents': ['Local Services'], 'children': []},\n",
       " 'IT Services & Computer Repair': {'parents': ['Local Services'],\n",
       "  'children': ['Telecommunications', 'Mobile Phone Repair', 'Data Recovery']},\n",
       " 'Community Service/Non-Profit': {'parents': ['Local Services'],\n",
       "  'children': []},\n",
       " 'Laundry Services': {'parents': ['Local Services'],\n",
       "  'children': ['Dry Cleaning', 'Laundromat']},\n",
       " 'Sewing & Alterations': {'parents': ['Local Services'], 'children': []},\n",
       " 'Junk Removal & Hauling': {'parents': ['Local Services'], 'children': []},\n",
       " 'Self Storage': {'parents': ['Local Services'], 'children': []},\n",
       " 'Air Duct Cleaning': {'parents': ['Local Services'], 'children': []},\n",
       " 'Printing Services': {'parents': ['Local Services'], 'children': []},\n",
       " 'Funeral Services & Cemeteries': {'parents': ['Local Services'],\n",
       "  'children': []},\n",
       " 'Couriers & Delivery Services': {'parents': ['Local Services'],\n",
       "  'children': []},\n",
       " 'Screen Printing': {'parents': ['Local Services'], 'children': []},\n",
       " 'Carpet Cleaning': {'parents': ['Local Services'], 'children': []},\n",
       " 'Watch Repair': {'parents': ['Local Services'], 'children': []},\n",
       " 'Notaries': {'parents': ['Local Services'], 'children': []},\n",
       " 'Electronics Repair': {'parents': ['Local Services'], 'children': []},\n",
       " 'Departments of Motor Vehicles': {'parents': ['Public Services & Government'],\n",
       "  'children': []},\n",
       " 'Libraries': {'parents': ['Public Services & Government'], 'children': []},\n",
       " 'Post Offices': {'parents': ['Public Services & Government'], 'children': []},\n",
       " 'Landmarks & Historical Buildings': {'parents': ['Public Services & Government'],\n",
       "  'children': []},\n",
       " 'Tires': {'parents': ['Automotive'], 'children': []},\n",
       " 'Roadside Assistance': {'parents': ['Automotive'], 'children': []},\n",
       " 'Auto Customization': {'parents': ['Automotive'], 'children': []},\n",
       " 'Auto Glass Services': {'parents': ['Automotive'],\n",
       "  'children': ['Car Window Tinting']},\n",
       " 'RV Repair': {'parents': ['Automotive'], 'children': []},\n",
       " 'Car Wash': {'parents': ['Automotive'], 'children': []},\n",
       " 'Gas Stations': {'parents': ['Automotive'], 'children': []},\n",
       " 'Towing': {'parents': ['Automotive'], 'children': []},\n",
       " 'RV Dealers': {'parents': ['Automotive'], 'children': []},\n",
       " 'Auto Parts & Supplies': {'parents': ['Automotive'], 'children': []},\n",
       " 'Auto Detailing': {'parents': ['Automotive'], 'children': []},\n",
       " 'Parking': {'parents': ['Automotive'], 'children': []},\n",
       " 'Motorcycle Repair': {'parents': ['Automotive'], 'children': []},\n",
       " 'Smog Check Stations': {'parents': ['Automotive'], 'children': []},\n",
       " 'Motorcycle Dealers': {'parents': ['Automotive'], 'children': []},\n",
       " 'Used Car Dealers': {'parents': ['Automotive'], 'children': []},\n",
       " 'Body Shops': {'parents': ['Automotive'], 'children': []},\n",
       " 'Wheel & Rim Repair': {'parents': ['Automotive'], 'children': []},\n",
       " 'Auto Repair': {'parents': ['Automotive'], 'children': []},\n",
       " 'Car Dealers': {'parents': ['Automotive'], 'children': []},\n",
       " 'Vehicle Wraps': {'parents': ['Automotive'], 'children': []},\n",
       " 'Car Stereo Installation': {'parents': ['Automotive'], 'children': []},\n",
       " 'Windshield Installation & Repair': {'parents': ['Automotive'],\n",
       "  'children': []},\n",
       " 'Oil Change Stations': {'parents': ['Automotive'], 'children': []},\n",
       " 'Truck Rental': {'parents': ['Automotive'], 'children': []},\n",
       " 'Transmission Repair': {'parents': ['Automotive'], 'children': []},\n",
       " 'Auto Loan Providers': {'parents': ['Automotive'], 'children': []},\n",
       " 'Elementary Schools': {'parents': ['Education'], 'children': []},\n",
       " 'Colleges & Universities': {'parents': ['Education'], 'children': []},\n",
       " 'Middle Schools & High Schools': {'parents': ['Education'], 'children': []},\n",
       " 'Art Classes': {'parents': ['Education'], 'children': []},\n",
       " 'Educational Services': {'parents': ['Education'], 'children': []},\n",
       " 'Preschools': {'parents': ['Education'], 'children': []},\n",
       " 'Private Tutors': {'parents': ['Education'], 'children': []},\n",
       " 'Specialty Schools': {'parents': ['Education'],\n",
       "  'children': ['Cosmetology Schools',\n",
       "   'Driving Schools',\n",
       "   'Dance Schools',\n",
       "   'Art Schools']},\n",
       " 'Adult Education': {'parents': ['Education'], 'children': []},\n",
       " 'Laser Hair Removal': {'parents': ['Hair Removal'], 'children': []},\n",
       " 'Threading Services': {'parents': ['Hair Removal'], 'children': []},\n",
       " 'Waxing': {'parents': ['Hair Removal'], 'children': []},\n",
       " 'Nail Technicians': {'parents': ['Nail Salons'], 'children': []},\n",
       " 'Spray Tanning': {'parents': ['Tanning'], 'children': []},\n",
       " 'Hair Stylists': {'parents': ['Hair Salons'], 'children': []},\n",
       " \"Men's Hair Salons\": {'parents': ['Hair Salons'], 'children': []},\n",
       " 'Blow Dry/Out Services': {'parents': ['Hair Salons'], 'children': []},\n",
       " 'Boot Camps': {'parents': ['Fitness & Instruction'], 'children': []},\n",
       " 'Barre Classes': {'parents': ['Fitness & Instruction'], 'children': []},\n",
       " 'Trainers': {'parents': ['Fitness & Instruction'], 'children': []},\n",
       " 'Gyms': {'parents': ['Fitness & Instruction'],\n",
       "  'children': ['Interval Training Gyms']},\n",
       " 'Pilates': {'parents': ['Fitness & Instruction'], 'children': []},\n",
       " 'Yoga': {'parents': ['Fitness & Instruction'], 'children': []},\n",
       " 'Boxing': {'parents': ['Fitness & Instruction'], 'children': []},\n",
       " 'Martial Arts': {'parents': ['Fitness & Instruction'], 'children': []},\n",
       " 'Dance Studios': {'parents': ['Fitness & Instruction'], 'children': []},\n",
       " 'Dog Parks': {'parents': ['Parks'], 'children': []},\n",
       " 'Public Transportation': {'parents': ['Transportation'], 'children': []},\n",
       " 'Airlines': {'parents': ['Transportation'], 'children': []},\n",
       " 'Limos': {'parents': ['Transportation'], 'children': []},\n",
       " 'Taxis': {'parents': ['Transportation'], 'children': []},\n",
       " 'Airport Shuttles': {'parents': ['Transportation'], 'children': []},\n",
       " 'Real Estate Services': {'parents': ['Real Estate'], 'children': []},\n",
       " 'Apartments': {'parents': ['Real Estate'], 'children': []},\n",
       " 'Real Estate Agents': {'parents': ['Real Estate'], 'children': []},\n",
       " 'Commercial Real Estate': {'parents': ['Real Estate'], 'children': []},\n",
       " 'Mortgage Brokers': {'parents': ['Real Estate'], 'children': []},\n",
       " 'Property Management': {'parents': ['Real Estate'], 'children': []},\n",
       " 'Event Photography': {'parents': ['Photographers'], 'children': []},\n",
       " 'Session Photography': {'parents': ['Photographers'], 'children': []},\n",
       " 'Dog Walkers': {'parents': ['Pet Services'], 'children': []},\n",
       " 'Pet Training': {'parents': ['Pet Services'], 'children': []},\n",
       " 'Pet Sitting': {'parents': ['Pet Services'], 'children': []},\n",
       " 'Pet Groomers': {'parents': ['Pet Services'], 'children': []},\n",
       " 'Sports Bars': {'parents': ['Bars'], 'children': []},\n",
       " 'Pubs': {'parents': ['Bars'], 'children': []},\n",
       " 'Gay Bars': {'parents': ['Bars'], 'children': []},\n",
       " 'Hookah Bars': {'parents': ['Bars'], 'children': []},\n",
       " 'Beer Bar': {'parents': ['Bars'], 'children': []},\n",
       " 'Dive Bars': {'parents': ['Bars'], 'children': []},\n",
       " 'Cocktail Bars': {'parents': ['Bars'], 'children': []},\n",
       " 'Lounges': {'parents': ['Bars'], 'children': []},\n",
       " 'Wine Bars': {'parents': ['Bars'], 'children': []},\n",
       " \"Men's Clothing\": {'parents': ['Fashion'], 'children': []},\n",
       " 'Plus Size Fashion': {'parents': ['Fashion'], 'children': []},\n",
       " 'Accessories': {'parents': ['Fashion'], 'children': []},\n",
       " 'Shoe Stores': {'parents': ['Fashion'], 'children': []},\n",
       " \"Children's Clothing\": {'parents': ['Fashion'], 'children': []},\n",
       " 'Formal Wear': {'parents': ['Fashion'], 'children': []},\n",
       " 'Leather Goods': {'parents': ['Fashion'], 'children': []},\n",
       " 'Lingerie': {'parents': ['Fashion'], 'children': []},\n",
       " 'Sports Wear': {'parents': ['Sporting Goods', 'Fashion'], 'children': []},\n",
       " \"Women's Clothing\": {'parents': ['Fashion'], 'children': []},\n",
       " 'Gift Shops': {'parents': ['Flowers & Gifts'], 'children': []},\n",
       " 'Florists': {'parents': ['Flowers & Gifts'], 'children': []},\n",
       " 'Costumes': {'parents': ['Arts & Crafts'], 'children': []},\n",
       " 'Framing': {'parents': ['Arts & Crafts'], 'children': []},\n",
       " 'Fabric Stores': {'parents': ['Arts & Crafts'], 'children': []},\n",
       " 'Art Supplies': {'parents': ['Arts & Crafts'], 'children': []},\n",
       " 'Hot Tub & Pool': {'parents': ['Home & Garden'], 'children': []},\n",
       " 'Furniture Stores': {'parents': ['Home & Garden'], 'children': []},\n",
       " 'Appliances': {'parents': ['Home & Garden'], 'children': []},\n",
       " 'Rugs': {'parents': ['Home & Garden'], 'children': []},\n",
       " 'Kitchen & Bath': {'parents': ['Home & Garden'], 'children': []},\n",
       " 'Nurseries & Gardening': {'parents': ['Home & Garden'], 'children': []},\n",
       " 'Home Decor': {'parents': ['Home & Garden'], 'children': []},\n",
       " 'Hardware Stores': {'parents': ['Home & Garden'], 'children': []},\n",
       " 'Mattresses': {'parents': ['Home & Garden'], 'children': []},\n",
       " 'Outdoor Gear': {'parents': ['Sporting Goods'], 'children': []},\n",
       " 'Bikes': {'parents': ['Sporting Goods'], 'children': []},\n",
       " 'Meat Shops': {'parents': ['Specialty Food'], 'children': []},\n",
       " 'Health Markets': {'parents': ['Specialty Food'], 'children': []},\n",
       " 'Chocolatiers & Shops': {'parents': ['Specialty Food'], 'children': []},\n",
       " 'Cheese Shops': {'parents': ['Specialty Food'], 'children': []},\n",
       " 'Fruits & Veggies': {'parents': ['Specialty Food'], 'children': []},\n",
       " 'Seafood Markets': {'parents': ['Specialty Food'], 'children': []},\n",
       " 'Candy Stores': {'parents': ['Specialty Food'], 'children': []},\n",
       " 'General Dentistry': {'parents': ['Dentists'], 'children': []},\n",
       " 'Pediatric Dentists': {'parents': ['Dentists'], 'children': []},\n",
       " 'Cosmetic Dentists': {'parents': ['Dentists'], 'children': []},\n",
       " 'Oral Surgeons': {'parents': ['Dentists'], 'children': []},\n",
       " 'Periodontists': {'parents': ['Dentists'], 'children': []},\n",
       " 'Orthodontists': {'parents': ['Dentists'], 'children': []},\n",
       " 'Endodontists': {'parents': ['Dentists'], 'children': []},\n",
       " 'Naturopathic/Holistic': {'parents': ['Doctors'], 'children': []},\n",
       " 'Sports Medicine': {'parents': ['Doctors'], 'children': []},\n",
       " 'Cosmetic Surgeons': {'parents': ['Doctors'], 'children': []},\n",
       " 'Pain Management': {'parents': ['Doctors'], 'children': []},\n",
       " 'Internal Medicine': {'parents': ['Doctors'], 'children': []},\n",
       " 'Orthopedists': {'parents': ['Doctors'], 'children': []},\n",
       " 'Obstetricians & Gynecologists': {'parents': ['Doctors'], 'children': []},\n",
       " 'Podiatrists': {'parents': ['Doctors'], 'children': []},\n",
       " 'Pediatricians': {'parents': ['Doctors'], 'children': []},\n",
       " 'Dermatologists': {'parents': ['Doctors'], 'children': []},\n",
       " 'Surgeons': {'parents': ['Doctors'], 'children': []},\n",
       " 'Tattoo Removal': {'parents': ['Doctors'], 'children': []},\n",
       " 'Family Practice': {'parents': ['Doctors'], 'children': []},\n",
       " 'Ophthalmologists': {'parents': ['Doctors'], 'children': []},\n",
       " 'Laboratory Testing': {'parents': ['Diagnostic Services'], 'children': []},\n",
       " 'Diagnostic Imaging': {'parents': ['Diagnostic Services'], 'children': []},\n",
       " 'Ramen': {'parents': ['Japanese'], 'children': []},\n",
       " 'Dim Sum': {'parents': ['Chinese'], 'children': []},\n",
       " 'Tacos': {'parents': ['Mexican'], 'children': []},\n",
       " 'Lebanese': {'parents': ['Middle Eastern'], 'children': []},\n",
       " 'Falafel': {'parents': ['Mediterranean'], 'children': []},\n",
       " 'DUI Law': {'parents': ['Lawyers'], 'children': []},\n",
       " 'Criminal Defense Law': {'parents': ['Lawyers'], 'children': []},\n",
       " 'Divorce & Family Law': {'parents': ['Lawyers'], 'children': []},\n",
       " 'Estate Planning Law': {'parents': ['Lawyers'], 'children': []},\n",
       " 'Personal Injury Law': {'parents': ['Lawyers'], 'children': []},\n",
       " 'Bankruptcy Law': {'parents': ['Lawyers'], 'children': []},\n",
       " 'Business Law': {'parents': ['Lawyers'], 'children': []},\n",
       " 'General Litigation': {'parents': ['Lawyers'], 'children': []},\n",
       " 'Real Estate Law': {'parents': ['Lawyers'], 'children': []},\n",
       " 'Life Insurance': {'parents': ['Insurance'], 'children': []},\n",
       " 'Home & Rental Insurance': {'parents': ['Insurance'], 'children': []},\n",
       " 'Auto Insurance': {'parents': ['Insurance'], 'children': []},\n",
       " 'Telecommunications': {'parents': ['IT Services & Computer Repair'],\n",
       "  'children': []},\n",
       " 'Mobile Phone Repair': {'parents': ['IT Services & Computer Repair'],\n",
       "  'children': []},\n",
       " 'Data Recovery': {'parents': ['IT Services & Computer Repair'],\n",
       "  'children': []},\n",
       " 'Dry Cleaning': {'parents': ['Laundry Services'], 'children': []},\n",
       " 'Laundromat': {'parents': ['Laundry Services'], 'children': []},\n",
       " 'Car Window Tinting': {'parents': ['Auto Glass Services'], 'children': []},\n",
       " 'Cosmetology Schools': {'parents': ['Specialty Schools'], 'children': []},\n",
       " 'Driving Schools': {'parents': ['Specialty Schools'], 'children': []},\n",
       " 'Dance Schools': {'parents': ['Specialty Schools'], 'children': []},\n",
       " 'Art Schools': {'parents': ['Specialty Schools'], 'children': []},\n",
       " 'Interval Training Gyms': {'parents': ['Gyms'], 'children': []}}"
      ]
     },
     "execution_count": 87,
     "metadata": {},
     "output_type": "execute_result"
    }
   ],
   "source": [
    "nodes"
   ]
  },
  {
   "cell_type": "code",
   "execution_count": 86,
   "id": "bf8c417f",
   "metadata": {},
   "outputs": [
    {
     "data": {
      "text/plain": [
       "540"
      ]
     },
     "execution_count": 86,
     "metadata": {},
     "output_type": "execute_result"
    }
   ],
   "source": [
    "len(nodes)"
   ]
  },
  {
   "cell_type": "code",
   "execution_count": 36,
   "id": "3cc58b5f",
   "metadata": {},
   "outputs": [],
   "source": [
    "import ast\n",
    "import json"
   ]
  },
  {
   "cell_type": "code",
   "execution_count": 37,
   "id": "b2c7c988",
   "metadata": {},
   "outputs": [],
   "source": [
    "nodes = get_hierarchy('Taxonomy_100')"
   ]
  },
  {
   "cell_type": "code",
   "execution_count": 3,
   "id": "56fe75bb",
   "metadata": {},
   "outputs": [],
   "source": [
    "cur_class_embed = torch.randn(10, 50)"
   ]
  },
  {
   "cell_type": "code",
   "execution_count": 4,
   "id": "eaff70b5",
   "metadata": {},
   "outputs": [],
   "source": [
    "next_class_embed = torch.randn(10, 20, 50)"
   ]
  },
  {
   "cell_type": "code",
   "execution_count": 5,
   "id": "78ecc79d",
   "metadata": {},
   "outputs": [],
   "source": [
    "state_embed = torch.cat((state_embed, cur_class_embed), 1)"
   ]
  },
  {
   "cell_type": "code",
   "execution_count": 13,
   "id": "65338d60",
   "metadata": {},
   "outputs": [],
   "source": [
    "state_embed = state_embed.unsqueeze(-1)"
   ]
  },
  {
   "cell_type": "code",
   "execution_count": 14,
   "id": "a58459e8",
   "metadata": {},
   "outputs": [
    {
     "data": {
      "text/plain": [
       "torch.Size([10, 50, 1])"
      ]
     },
     "execution_count": 14,
     "metadata": {},
     "output_type": "execute_result"
    }
   ],
   "source": [
    "state_embed.shape"
   ]
  },
  {
   "cell_type": "code",
   "execution_count": 15,
   "id": "5bf4f6cb",
   "metadata": {},
   "outputs": [],
   "source": [
    "probs = torch.bmm(next_class_embed, state_embed)"
   ]
  },
  {
   "cell_type": "code",
   "execution_count": 24,
   "id": "878e3949",
   "metadata": {},
   "outputs": [
    {
     "data": {
      "text/plain": [
       "torch.Size([10, 20, 50])"
      ]
     },
     "execution_count": 24,
     "metadata": {},
     "output_type": "execute_result"
    }
   ],
   "source": [
    "next_class_embed.shape"
   ]
  },
  {
   "cell_type": "code",
   "execution_count": 23,
   "id": "e302975b",
   "metadata": {},
   "outputs": [
    {
     "data": {
      "text/plain": [
       "torch.Size([10, 20, 1])"
      ]
     },
     "execution_count": 23,
     "metadata": {},
     "output_type": "execute_result"
    }
   ],
   "source": [
    "probs.shape"
   ]
  },
  {
   "cell_type": "code",
   "execution_count": 19,
   "id": "dcd57b00",
   "metadata": {},
   "outputs": [
    {
     "data": {
      "text/plain": [
       "torch.Size([10, 50, 1])"
      ]
     },
     "execution_count": 19,
     "metadata": {},
     "output_type": "execute_result"
    }
   ],
   "source": [
    "state_embed.shape"
   ]
  },
  {
   "cell_type": "code",
   "execution_count": 21,
   "id": "c536be02",
   "metadata": {},
   "outputs": [
    {
     "data": {
      "text/plain": [
       "torch.Size([10, 20, 50])"
      ]
     },
     "execution_count": 21,
     "metadata": {},
     "output_type": "execute_result"
    }
   ],
   "source": [
    "next_class_embed.shape"
   ]
  },
  {
   "cell_type": "code",
   "execution_count": 18,
   "id": "71731a95",
   "metadata": {},
   "outputs": [
    {
     "data": {
      "text/plain": [
       "torch.Size([10, 20])"
      ]
     },
     "execution_count": 18,
     "metadata": {},
     "output_type": "execute_result"
    }
   ],
   "source": [
    "probs.squeeze(-1).shape"
   ]
  },
  {
   "cell_type": "code",
   "execution_count": 25,
   "id": "b833d5bb",
   "metadata": {},
   "outputs": [],
   "source": [
    "from sklearn.metrics import f1_score"
   ]
  },
  {
   "cell_type": "code",
   "execution_count": 26,
   "id": "e079cd3b",
   "metadata": {},
   "outputs": [],
   "source": [
    "labels = [1,2,3,4,5]\n",
    "preds = [5,2,2]"
   ]
  },
  {
   "cell_type": "code",
   "execution_count": 28,
   "id": "cc92a285",
   "metadata": {},
   "outputs": [],
   "source": [
    "s = set([1,2,3])"
   ]
  },
  {
   "cell_type": "code",
   "execution_count": 30,
   "id": "10970e7f",
   "metadata": {},
   "outputs": [],
   "source": [
    "s.update([4,5,6])"
   ]
  },
  {
   "cell_type": "code",
   "execution_count": 31,
   "id": "65975e0e",
   "metadata": {},
   "outputs": [
    {
     "data": {
      "text/plain": [
       "{1, 2, 3, 4, 5, 6}"
      ]
     },
     "execution_count": 31,
     "metadata": {},
     "output_type": "execute_result"
    }
   ],
   "source": [
    "s"
   ]
  },
  {
   "cell_type": "code",
   "execution_count": 50,
   "id": "e8252a94",
   "metadata": {},
   "outputs": [],
   "source": [
    "class test:\n",
    "    def __init__(self, x):\n",
    "        self.x = x\n",
    "        \n",
    "    @staticmethod\n",
    "    def b(a):\n",
    "        print(a)\n",
    "        return a\n",
    "    \n",
    "    def c(self, a):\n",
    "        print(self.b(a))"
   ]
  },
  {
   "cell_type": "code",
   "execution_count": 51,
   "id": "48f30ad3",
   "metadata": {},
   "outputs": [],
   "source": [
    "t = test(5)"
   ]
  },
  {
   "cell_type": "code",
   "execution_count": 52,
   "id": "c09e99d5",
   "metadata": {},
   "outputs": [
    {
     "name": "stdout",
     "output_type": "stream",
     "text": [
      "2\n",
      "2\n"
     ]
    }
   ],
   "source": [
    "t.c(2)"
   ]
  },
  {
   "cell_type": "code",
   "execution_count": 54,
   "id": "27997aaf",
   "metadata": {},
   "outputs": [],
   "source": [
    "labels[2] = 'a'"
   ]
  },
  {
   "cell_type": "code",
   "execution_count": 55,
   "id": "f498c03a",
   "metadata": {},
   "outputs": [
    {
     "data": {
      "text/plain": [
       "[1, 2, 'a', 4, 5]"
      ]
     },
     "execution_count": 55,
     "metadata": {},
     "output_type": "execute_result"
    }
   ],
   "source": [
    "labels"
   ]
  },
  {
   "cell_type": "code",
   "execution_count": 56,
   "id": "741de17e",
   "metadata": {},
   "outputs": [],
   "source": [
    "a = set([1,2,3])\n",
    "b = set([2,4,6])"
   ]
  },
  {
   "cell_type": "code",
   "execution_count": 58,
   "id": "b7c52e68",
   "metadata": {},
   "outputs": [],
   "source": [
    "c = a.difference(b)"
   ]
  },
  {
   "cell_type": "code",
   "execution_count": 59,
   "id": "17130afd",
   "metadata": {},
   "outputs": [
    {
     "data": {
      "text/plain": [
       "{1, 3}"
      ]
     },
     "execution_count": 59,
     "metadata": {},
     "output_type": "execute_result"
    }
   ],
   "source": [
    "c"
   ]
  },
  {
   "cell_type": "code",
   "execution_count": 60,
   "id": "1c333d2a",
   "metadata": {},
   "outputs": [],
   "source": [
    "x = [[1,2,3], [4,5,6]]"
   ]
  },
  {
   "cell_type": "code",
   "execution_count": 62,
   "id": "dedc4dd9",
   "metadata": {},
   "outputs": [
    {
     "data": {
      "text/plain": [
       "torch.Size([2, 3])"
      ]
     },
     "execution_count": 62,
     "metadata": {},
     "output_type": "execute_result"
    }
   ],
   "source": [
    "torch.tensor(x).shape"
   ]
  },
  {
   "cell_type": "code",
   "execution_count": 63,
   "id": "c71209f5",
   "metadata": {},
   "outputs": [],
   "source": [
    "from torch.distributions import Categorical"
   ]
  },
  {
   "cell_type": "code",
   "execution_count": 64,
   "id": "6c8414ab",
   "metadata": {},
   "outputs": [],
   "source": [
    "probs = torch.tensor([0.1, 0.5, 0.4])"
   ]
  },
  {
   "cell_type": "code",
   "execution_count": 67,
   "id": "da661bc7",
   "metadata": {},
   "outputs": [],
   "source": [
    "x = Categorical(probs)"
   ]
  },
  {
   "cell_type": "code",
   "execution_count": 69,
   "id": "0828a88e",
   "metadata": {},
   "outputs": [
    {
     "data": {
      "text/plain": [
       "tensor([0.1000, 0.5000, 0.4000])"
      ]
     },
     "execution_count": 69,
     "metadata": {},
     "output_type": "execute_result"
    }
   ],
   "source": [
    "x.probs"
   ]
  },
  {
   "cell_type": "code",
   "execution_count": 73,
   "id": "4af2b721",
   "metadata": {},
   "outputs": [
    {
     "data": {
      "text/plain": [
       "<bound method Categorical.log_prob of Categorical(probs: torch.Size([3]))>"
      ]
     },
     "execution_count": 73,
     "metadata": {},
     "output_type": "execute_result"
    }
   ],
   "source": [
    "x.log_prob"
   ]
  },
  {
   "cell_type": "code",
   "execution_count": 74,
   "id": "724102c8",
   "metadata": {},
   "outputs": [],
   "source": [
    "logits = torch.randn(5,10)"
   ]
  },
  {
   "cell_type": "code",
   "execution_count": 76,
   "id": "4da5ea41",
   "metadata": {},
   "outputs": [],
   "source": [
    "import torch.nn.functional as F"
   ]
  },
  {
   "cell_type": "code",
   "execution_count": 77,
   "id": "20b13cfc",
   "metadata": {},
   "outputs": [],
   "source": [
    "probs = F.softmax(logits, dim=-1)"
   ]
  },
  {
   "cell_type": "code",
   "execution_count": 78,
   "id": "bdd879e5",
   "metadata": {},
   "outputs": [
    {
     "data": {
      "text/plain": [
       "tensor([[0.0545, 0.1297, 0.0908, 0.2440, 0.0336, 0.0151, 0.0137, 0.0300, 0.1666,\n",
       "         0.2221],\n",
       "        [0.1167, 0.0295, 0.1920, 0.2635, 0.1302, 0.0479, 0.0688, 0.1065, 0.0259,\n",
       "         0.0191],\n",
       "        [0.0662, 0.0284, 0.0169, 0.0246, 0.4457, 0.0652, 0.2008, 0.0864, 0.0333,\n",
       "         0.0325],\n",
       "        [0.1988, 0.0576, 0.0866, 0.1750, 0.1858, 0.0534, 0.0703, 0.0677, 0.0241,\n",
       "         0.0807],\n",
       "        [0.3729, 0.0228, 0.0452, 0.0709, 0.0354, 0.0675, 0.0716, 0.0610, 0.0325,\n",
       "         0.2202]])"
      ]
     },
     "execution_count": 78,
     "metadata": {},
     "output_type": "execute_result"
    }
   ],
   "source": [
    "probs"
   ]
  },
  {
   "cell_type": "code",
   "execution_count": null,
   "id": "db895fae",
   "metadata": {},
   "outputs": [],
   "source": [
    "next_class"
   ]
  },
  {
   "cell_type": "code",
   "execution_count": null,
   "id": "b6d2d719",
   "metadata": {},
   "outputs": [],
   "source": [
    "logits = (next_classes_batch == 0).float() * -99999 + (next_classes_batch != 0).float() * logits"
   ]
  },
  {
   "cell_type": "code",
   "execution_count": 81,
   "id": "f2f3ece9",
   "metadata": {},
   "outputs": [],
   "source": [
    "next_labels = torch.randint(low=0, high=5, size=(5,10))"
   ]
  },
  {
   "cell_type": "code",
   "execution_count": 82,
   "id": "2a8e03b7",
   "metadata": {},
   "outputs": [
    {
     "data": {
      "text/plain": [
       "tensor([[4, 4, 0, 4, 3, 4, 0, 1, 4, 4],\n",
       "        [4, 2, 0, 3, 3, 4, 2, 2, 0, 4],\n",
       "        [4, 3, 3, 3, 1, 3, 1, 4, 3, 2],\n",
       "        [1, 4, 3, 2, 3, 0, 1, 2, 0, 2],\n",
       "        [1, 2, 1, 4, 2, 1, 2, 4, 3, 3]])"
      ]
     },
     "execution_count": 82,
     "metadata": {},
     "output_type": "execute_result"
    }
   ],
   "source": [
    "next_labels"
   ]
  },
  {
   "cell_type": "code",
   "execution_count": 83,
   "id": "4fbe0e25",
   "metadata": {},
   "outputs": [
    {
     "data": {
      "text/plain": [
       "tensor([[False, False,  True, False, False, False,  True, False, False, False],\n",
       "        [False, False,  True, False, False, False, False, False,  True, False],\n",
       "        [False, False, False, False, False, False, False, False, False, False],\n",
       "        [False, False, False, False, False,  True, False, False,  True, False],\n",
       "        [False, False, False, False, False, False, False, False, False, False]])"
      ]
     },
     "execution_count": 83,
     "metadata": {},
     "output_type": "execute_result"
    }
   ],
   "source": [
    "next_labels == 0"
   ]
  },
  {
   "cell_type": "code",
   "execution_count": 84,
   "id": "d187d279",
   "metadata": {},
   "outputs": [
    {
     "data": {
      "text/plain": [
       "tensor([[ 5.4517e-02,  1.2965e-01, -9.9999e+04,  2.4402e-01,  3.3629e-02,\n",
       "          1.5100e-02, -9.9999e+04,  3.0036e-02,  1.6657e-01,  2.2206e-01],\n",
       "        [ 1.1671e-01,  2.9458e-02, -9.9999e+04,  2.6348e-01,  1.3023e-01,\n",
       "          4.7905e-02,  6.8803e-02,  1.0647e-01, -9.9999e+04,  1.9067e-02],\n",
       "        [ 6.6225e-02,  2.8373e-02,  1.6946e-02,  2.4588e-02,  4.4566e-01,\n",
       "          6.5197e-02,  2.0084e-01,  8.6391e-02,  3.3257e-02,  3.2524e-02],\n",
       "        [ 1.9879e-01,  5.7572e-02,  8.6562e-02,  1.7503e-01,  1.8576e-01,\n",
       "         -9.9999e+04,  7.0272e-02,  6.7743e-02, -9.9999e+04,  8.0741e-02],\n",
       "        [ 3.7293e-01,  2.2817e-02,  4.5229e-02,  7.0853e-02,  3.5356e-02,\n",
       "          6.7478e-02,  7.1595e-02,  6.1037e-02,  3.2506e-02,  2.2020e-01]])"
      ]
     },
     "execution_count": 84,
     "metadata": {},
     "output_type": "execute_result"
    }
   ],
   "source": [
    "(next_labels == 0).float() * -99999 + (next_labels != 0).float() * probs"
   ]
  },
  {
   "cell_type": "code",
   "execution_count": 163,
   "id": "bd3b1cd2",
   "metadata": {},
   "outputs": [],
   "source": [
    "d = {'a': 1, 'b': 2}"
   ]
  },
  {
   "cell_type": "code",
   "execution_count": 165,
   "id": "44080f4c",
   "metadata": {},
   "outputs": [
    {
     "data": {
      "text/plain": [
       "['a', 'b']"
      ]
     },
     "execution_count": 165,
     "metadata": {},
     "output_type": "execute_result"
    }
   ],
   "source": [
    "list(d)"
   ]
  },
  {
   "cell_type": "code",
   "execution_count": 164,
   "id": "42553fde",
   "metadata": {},
   "outputs": [
    {
     "name": "stdout",
     "output_type": "stream",
     "text": [
      "a 1\n",
      "b 2\n"
     ]
    }
   ],
   "source": [
    "for k, v in d.items():\n",
    "    print(k, v)"
   ]
  },
  {
   "cell_type": "code",
   "execution_count": 88,
   "id": "506b062d",
   "metadata": {},
   "outputs": [],
   "source": [
    "a = set([1,2,3])"
   ]
  },
  {
   "cell_type": "code",
   "execution_count": 89,
   "id": "93b3842f",
   "metadata": {},
   "outputs": [],
   "source": [
    "a.update([4,5,6])"
   ]
  },
  {
   "cell_type": "code",
   "execution_count": 90,
   "id": "76bfda01",
   "metadata": {},
   "outputs": [
    {
     "data": {
      "text/plain": [
       "{1, 2, 3, 4, 5, 6}"
      ]
     },
     "execution_count": 90,
     "metadata": {},
     "output_type": "execute_result"
    }
   ],
   "source": [
    "a"
   ]
  },
  {
   "cell_type": "code",
   "execution_count": 91,
   "id": "85be50c2",
   "metadata": {},
   "outputs": [],
   "source": [
    "a = [set([1,2,3]), [4,5,6]]"
   ]
  },
  {
   "cell_type": "code",
   "execution_count": 92,
   "id": "53c6d316",
   "metadata": {},
   "outputs": [
    {
     "data": {
      "text/plain": [
       "[{1, 2, 3}, [4, 5, 6]]"
      ]
     },
     "execution_count": 92,
     "metadata": {},
     "output_type": "execute_result"
    }
   ],
   "source": [
    "a"
   ]
  },
  {
   "cell_type": "code",
   "execution_count": 93,
   "id": "4622afa0",
   "metadata": {},
   "outputs": [],
   "source": [
    "c = a[0].difference(set([2,3]))"
   ]
  },
  {
   "cell_type": "code",
   "execution_count": 94,
   "id": "26b87da0",
   "metadata": {},
   "outputs": [
    {
     "data": {
      "text/plain": [
       "{1}"
      ]
     },
     "execution_count": 94,
     "metadata": {},
     "output_type": "execute_result"
    }
   ],
   "source": [
    "c"
   ]
  },
  {
   "cell_type": "code",
   "execution_count": 95,
   "id": "b22661d9",
   "metadata": {},
   "outputs": [],
   "source": [
    "r = torch.randn(4, 7)"
   ]
  },
  {
   "cell_type": "code",
   "execution_count": 101,
   "id": "2c60cd3b",
   "metadata": {},
   "outputs": [
    {
     "data": {
      "text/plain": [
       "torch.Size([7])"
      ]
     },
     "execution_count": 101,
     "metadata": {},
     "output_type": "execute_result"
    }
   ],
   "source": [
    "torch.mean(r, dim=0).shape"
   ]
  },
  {
   "cell_type": "code",
   "execution_count": 100,
   "id": "5c3c9656",
   "metadata": {},
   "outputs": [
    {
     "data": {
      "text/plain": [
       "tensor([[-1.4299, -1.0907,  1.9140,  1.0892, -0.4691, -1.2900,  0.2158],\n",
       "        [-0.0678,  1.9232,  0.8032,  0.3459, -1.4979, -0.0790,  0.5529],\n",
       "        [ 1.0282,  0.6831,  0.0471, -1.3030,  0.6117, -2.2798,  1.3831],\n",
       "        [ 0.3768, -1.6099,  2.0666, -1.5397,  0.6077,  0.5508, -0.0244]])"
      ]
     },
     "execution_count": 100,
     "metadata": {},
     "output_type": "execute_result"
    }
   ],
   "source": [
    "r"
   ]
  },
  {
   "cell_type": "code",
   "execution_count": 124,
   "id": "75fdd201",
   "metadata": {},
   "outputs": [],
   "source": [
    "# batch probs at one time step\n",
    "probs = torch.randn(4, 6)"
   ]
  },
  {
   "cell_type": "code",
   "execution_count": 125,
   "id": "3dcb5d5a",
   "metadata": {},
   "outputs": [
    {
     "data": {
      "text/plain": [
       "tensor([[-1.5015, -0.4554, -1.2002,  1.6385,  1.6716,  0.8965],\n",
       "        [ 0.1835,  0.0633, -0.8816,  0.7689,  1.7253, -0.1621],\n",
       "        [ 1.3543, -0.2581, -1.0915, -1.4051,  0.0513, -0.2599],\n",
       "        [ 0.6065, -2.2942, -0.9583, -1.4709,  0.1499,  1.8822]])"
      ]
     },
     "execution_count": 125,
     "metadata": {},
     "output_type": "execute_result"
    }
   ],
   "source": [
    "probs"
   ]
  },
  {
   "cell_type": "code",
   "execution_count": 126,
   "id": "de6371c0",
   "metadata": {},
   "outputs": [],
   "source": [
    "s_probs = F.softmax(probs, dim=-1)"
   ]
  },
  {
   "cell_type": "code",
   "execution_count": 127,
   "id": "5d87f924",
   "metadata": {},
   "outputs": [
    {
     "data": {
      "text/plain": [
       "tensor([[0.0158, 0.0451, 0.0214, 0.3657, 0.3780, 0.1741],\n",
       "        [0.1063, 0.0943, 0.0366, 0.1909, 0.4967, 0.0752],\n",
       "        [0.5494, 0.1095, 0.0476, 0.0348, 0.1493, 0.1094],\n",
       "        [0.1784, 0.0098, 0.0373, 0.0224, 0.1130, 0.6390]])"
      ]
     },
     "execution_count": 127,
     "metadata": {},
     "output_type": "execute_result"
    }
   ],
   "source": [
    "s_probs # (4, 10)"
   ]
  },
  {
   "cell_type": "code",
   "execution_count": 180,
   "id": "40a736d4",
   "metadata": {},
   "outputs": [],
   "source": [
    "rewards = torch.randint(-1, 1, (4, 7))"
   ]
  },
  {
   "cell_type": "code",
   "execution_count": 181,
   "id": "6d912811",
   "metadata": {},
   "outputs": [
    {
     "data": {
      "text/plain": [
       "tensor([[-1, -1,  0, -1,  0,  0, -1],\n",
       "        [-1,  0,  0,  0, -1,  0,  0],\n",
       "        [ 0, -1, -1,  0,  0,  0, -1],\n",
       "        [-1, -1, -1,  0, -1, -1, -1]])"
      ]
     },
     "execution_count": 181,
     "metadata": {},
     "output_type": "execute_result"
    }
   ],
   "source": [
    "rewards"
   ]
  },
  {
   "cell_type": "code",
   "execution_count": 183,
   "id": "5e3c372c",
   "metadata": {},
   "outputs": [],
   "source": [
    "actions_probs_at_time_1 = F.softmax(torch.randn(4, 10), dim=-1)"
   ]
  },
  {
   "cell_type": "code",
   "execution_count": 184,
   "id": "09349f2f",
   "metadata": {},
   "outputs": [
    {
     "data": {
      "text/plain": [
       "tensor([[0.0518, 0.1387, 0.0067, 0.4887, 0.1440, 0.0444, 0.0265, 0.0212, 0.0720,\n",
       "         0.0060],\n",
       "        [0.0679, 0.1024, 0.1636, 0.0639, 0.2254, 0.0095, 0.1286, 0.0625, 0.0377,\n",
       "         0.1384],\n",
       "        [0.0997, 0.0151, 0.0424, 0.0320, 0.0152, 0.1256, 0.0283, 0.2690, 0.1367,\n",
       "         0.2360],\n",
       "        [0.0696, 0.0357, 0.0345, 0.2096, 0.2084, 0.0682, 0.0403, 0.0088, 0.3006,\n",
       "         0.0242]])"
      ]
     },
     "execution_count": 184,
     "metadata": {},
     "output_type": "execute_result"
    }
   ],
   "source": [
    "actions_probs_at_time_1"
   ]
  },
  {
   "cell_type": "code",
   "execution_count": 186,
   "id": "d9668e78",
   "metadata": {},
   "outputs": [
    {
     "ename": "RuntimeError",
     "evalue": "The size of tensor a (4) must match the size of tensor b (10) at non-singleton dimension 1",
     "output_type": "error",
     "traceback": [
      "\u001b[0;31m---------------------------------------------------------------------------\u001b[0m",
      "\u001b[0;31mRuntimeError\u001b[0m                              Traceback (most recent call last)",
      "Input \u001b[0;32mIn [186]\u001b[0m, in \u001b[0;36m<cell line: 1>\u001b[0;34m()\u001b[0m\n\u001b[0;32m----> 1\u001b[0m loss \u001b[38;5;241m=\u001b[39m \u001b[43mrewards\u001b[49m\u001b[43m[\u001b[49m\u001b[43m:\u001b[49m\u001b[43m,\u001b[49m\u001b[43m \u001b[49m\u001b[38;5;241;43m0\u001b[39;49m\u001b[43m]\u001b[49m\u001b[43m \u001b[49m\u001b[38;5;241;43m*\u001b[39;49m\u001b[43m \u001b[49m\u001b[43mactions_probs_at_time_1\u001b[49m\n",
      "\u001b[0;31mRuntimeError\u001b[0m: The size of tensor a (4) must match the size of tensor b (10) at non-singleton dimension 1"
     ]
    }
   ],
   "source": [
    "loss = rewards[:, 0] * actions_probs_at_time_1"
   ]
  },
  {
   "cell_type": "code",
   "execution_count": 189,
   "id": "c008dffa",
   "metadata": {},
   "outputs": [
    {
     "data": {
      "text/plain": [
       "tensor([-0.1893, -0.2769, -0.2049, -0.7622, -0.5778, -0.1221, -0.1954, -0.0925,\n",
       "        -0.4103, -0.1686])"
      ]
     },
     "execution_count": 189,
     "metadata": {},
     "output_type": "execute_result"
    }
   ],
   "source": [
    "torch.matmul(rewards[:, 0].flatten(), actions_probs_at_time_1)"
   ]
  },
  {
   "cell_type": "code",
   "execution_count": 193,
   "id": "f31c3dbe",
   "metadata": {},
   "outputs": [
    {
     "ename": "RuntimeError",
     "evalue": "The size of tensor a (10) must match the size of tensor b (4) at non-singleton dimension 1",
     "output_type": "error",
     "traceback": [
      "\u001b[0;31m---------------------------------------------------------------------------\u001b[0m",
      "\u001b[0;31mRuntimeError\u001b[0m                              Traceback (most recent call last)",
      "Input \u001b[0;32mIn [193]\u001b[0m, in \u001b[0;36m<cell line: 1>\u001b[0;34m()\u001b[0m\n\u001b[0;32m----> 1\u001b[0m \u001b[43mactions_probs_at_time_1\u001b[49m\u001b[43m \u001b[49m\u001b[38;5;241;43m*\u001b[39;49m\u001b[43m \u001b[49m\u001b[43mrewards\u001b[49m\u001b[43m[\u001b[49m\u001b[43m:\u001b[49m\u001b[43m,\u001b[49m\u001b[43m \u001b[49m\u001b[38;5;241;43m0\u001b[39;49m\u001b[43m]\u001b[49m\u001b[38;5;241;43m.\u001b[39;49m\u001b[43msqueeze\u001b[49m\u001b[43m(\u001b[49m\u001b[43m)\u001b[49m\n",
      "\u001b[0;31mRuntimeError\u001b[0m: The size of tensor a (10) must match the size of tensor b (4) at non-singleton dimension 1"
     ]
    }
   ],
   "source": [
    "actions_probs_at_time_1 * rewards[:, 0].squeeze()"
   ]
  },
  {
   "cell_type": "code",
   "execution_count": null,
   "id": "72911c73",
   "metadata": {},
   "outputs": [],
   "source": [
    "losses = []\n",
    "for i in range(7):\n",
    "    "
   ]
  },
  {
   "cell_type": "code",
   "execution_count": 173,
   "id": "0527492e",
   "metadata": {},
   "outputs": [],
   "source": [
    "l = -rewards * s_probs"
   ]
  },
  {
   "cell_type": "code",
   "execution_count": 179,
   "id": "7887c27e",
   "metadata": {},
   "outputs": [
    {
     "data": {
      "text/plain": [
       "tensor([[0.0158, 0.0451, 0.0214, 0.3657, 0.3780, 0.1741],\n",
       "        [0.1063, 0.0943, 0.0366, 0.1909, 0.4967, 0.0752],\n",
       "        [0.5494, 0.1095, 0.0476, 0.0348, 0.1493, 0.1094],\n",
       "        [0.1784, 0.0098, 0.0373, 0.0224, 0.1130, 0.6390]])"
      ]
     },
     "execution_count": 179,
     "metadata": {},
     "output_type": "execute_result"
    }
   ],
   "source": [
    "s_probs"
   ]
  },
  {
   "cell_type": "code",
   "execution_count": null,
   "id": "21e326ec",
   "metadata": {},
   "outputs": [],
   "source": [
    "losses = "
   ]
  },
  {
   "cell_type": "code",
   "execution_count": 136,
   "id": "2026da20",
   "metadata": {},
   "outputs": [],
   "source": [
    "loss = rewards * s_probs"
   ]
  },
  {
   "cell_type": "code",
   "execution_count": 141,
   "id": "ec42a68d",
   "metadata": {},
   "outputs": [
    {
     "data": {
      "text/plain": [
       "tensor(-0.5000)"
      ]
     },
     "execution_count": 141,
     "metadata": {},
     "output_type": "execute_result"
    }
   ],
   "source": [
    "sum(loss).mean()"
   ]
  },
  {
   "cell_type": "code",
   "execution_count": 137,
   "id": "f7fbb74b",
   "metadata": {},
   "outputs": [
    {
     "data": {
      "text/plain": [
       "tensor(-0.1250)"
      ]
     },
     "execution_count": 137,
     "metadata": {},
     "output_type": "execute_result"
    }
   ],
   "source": [
    "loss.mean()"
   ]
  },
  {
   "cell_type": "code",
   "execution_count": 110,
   "id": "6e7ba816",
   "metadata": {},
   "outputs": [],
   "source": [
    "x = -probs * rewards"
   ]
  },
  {
   "cell_type": "code",
   "execution_count": 111,
   "id": "5824b72e",
   "metadata": {},
   "outputs": [
    {
     "data": {
      "text/plain": [
       "tensor([[-0.0000, -0.0551,  0.0000, -0.8927, -0.7319, -0.2166,  0.0000, -0.0000,\n",
       "         -0.0000,  0.0000],\n",
       "        [ 0.0000, -1.3591, -2.3231,  0.0000,  0.0000, -0.0000, -0.4006, -0.0000,\n",
       "          0.0000, -0.0000],\n",
       "        [-0.0000,  1.1667, -0.0000,  1.2021,  0.0000,  0.3028, -0.0000,  0.2840,\n",
       "          0.0000, -0.0000],\n",
       "        [ 0.0000,  0.0000,  0.0000,  0.0000,  0.4808,  0.0000, -0.9059,  0.0000,\n",
       "          0.0000,  2.2963]])"
      ]
     },
     "execution_count": 111,
     "metadata": {},
     "output_type": "execute_result"
    }
   ],
   "source": [
    "x"
   ]
  },
  {
   "cell_type": "code",
   "execution_count": 112,
   "id": "e1872231",
   "metadata": {},
   "outputs": [
    {
     "data": {
      "text/plain": [
       "tensor(-0.0288)"
      ]
     },
     "execution_count": 112,
     "metadata": {},
     "output_type": "execute_result"
    }
   ],
   "source": [
    "x.mean()"
   ]
  },
  {
   "cell_type": "code",
   "execution_count": 113,
   "id": "2c30a37d",
   "metadata": {},
   "outputs": [],
   "source": [
    "policy_loss = []\n",
    "for prob, reward in zip(probs, rewards):\n",
    "    policy_loss.append(-prob * reward)"
   ]
  },
  {
   "cell_type": "code",
   "execution_count": 114,
   "id": "ba474f59",
   "metadata": {},
   "outputs": [
    {
     "data": {
      "text/plain": [
       "[tensor([-0.0000, -0.0551,  0.0000, -0.8927, -0.7319, -0.2166,  0.0000, -0.0000,\n",
       "         -0.0000,  0.0000]),\n",
       " tensor([ 0.0000, -1.3591, -2.3231,  0.0000,  0.0000, -0.0000, -0.4006, -0.0000,\n",
       "          0.0000, -0.0000]),\n",
       " tensor([-0.0000, 1.1667, -0.0000, 1.2021, 0.0000, 0.3028, -0.0000, 0.2840, 0.0000,\n",
       "         -0.0000]),\n",
       " tensor([ 0.0000,  0.0000,  0.0000,  0.0000,  0.4808,  0.0000, -0.9059,  0.0000,\n",
       "          0.0000,  2.2963])]"
      ]
     },
     "execution_count": 114,
     "metadata": {},
     "output_type": "execute_result"
    }
   ],
   "source": [
    "policy_loss"
   ]
  },
  {
   "cell_type": "code",
   "execution_count": 172,
   "id": "5ba12295",
   "metadata": {},
   "outputs": [
    {
     "data": {
      "text/plain": [
       "tensor(-0.1896)"
      ]
     },
     "execution_count": 172,
     "metadata": {},
     "output_type": "execute_result"
    }
   ],
   "source": [
    "policy_loss[0].mean()"
   ]
  },
  {
   "cell_type": "code",
   "execution_count": 115,
   "id": "4d1a45cd",
   "metadata": {},
   "outputs": [],
   "source": [
    "loss = torch.cat(policy_loss).mean()"
   ]
  },
  {
   "cell_type": "code",
   "execution_count": 116,
   "id": "106997e0",
   "metadata": {},
   "outputs": [
    {
     "data": {
      "text/plain": [
       "tensor(-0.0288)"
      ]
     },
     "execution_count": 116,
     "metadata": {},
     "output_type": "execute_result"
    }
   ],
   "source": [
    "loss"
   ]
  },
  {
   "cell_type": "code",
   "execution_count": 157,
   "id": "b7edf663",
   "metadata": {},
   "outputs": [],
   "source": [
    "x = []"
   ]
  },
  {
   "cell_type": "code",
   "execution_count": 158,
   "id": "8aad9a17",
   "metadata": {},
   "outputs": [],
   "source": [
    "x.append(torch.tensor(2))"
   ]
  },
  {
   "cell_type": "code",
   "execution_count": 159,
   "id": "9d7841ec",
   "metadata": {},
   "outputs": [],
   "source": [
    "x.append(torch.tensor(3))"
   ]
  },
  {
   "cell_type": "code",
   "execution_count": 160,
   "id": "edf173ae",
   "metadata": {},
   "outputs": [
    {
     "data": {
      "text/plain": [
       "[tensor(2), tensor(3)]"
      ]
     },
     "execution_count": 160,
     "metadata": {},
     "output_type": "execute_result"
    }
   ],
   "source": [
    "x"
   ]
  },
  {
   "cell_type": "code",
   "execution_count": 162,
   "id": "44e2c31f",
   "metadata": {},
   "outputs": [
    {
     "data": {
      "text/plain": [
       "tensor(2.5000)"
      ]
     },
     "execution_count": 162,
     "metadata": {},
     "output_type": "execute_result"
    }
   ],
   "source": [
    "sum(x) / len(x)"
   ]
  },
  {
   "cell_type": "code",
   "execution_count": 166,
   "id": "78ed22a1",
   "metadata": {},
   "outputs": [],
   "source": [
    "x = [1,2,3,4]\n",
    "y = [1,2,3,4]"
   ]
  },
  {
   "cell_type": "code",
   "execution_count": 167,
   "id": "adf52d1d",
   "metadata": {},
   "outputs": [
    {
     "data": {
      "text/plain": [
       "True"
      ]
     },
     "execution_count": 167,
     "metadata": {},
     "output_type": "execute_result"
    }
   ],
   "source": [
    "x == y"
   ]
  },
  {
   "cell_type": "code",
   "execution_count": null,
   "id": "042fcb93",
   "metadata": {},
   "outputs": [],
   "source": []
  }
 ],
 "metadata": {
  "kernelspec": {
   "display_name": "Python 3 (ipykernel)",
   "language": "python",
   "name": "python3"
  },
  "language_info": {
   "codemirror_mode": {
    "name": "ipython",
    "version": 3
   },
   "file_extension": ".py",
   "mimetype": "text/x-python",
   "name": "python",
   "nbconvert_exporter": "python",
   "pygments_lexer": "ipython3",
   "version": "3.9.12"
  }
 },
 "nbformat": 4,
 "nbformat_minor": 5
}
